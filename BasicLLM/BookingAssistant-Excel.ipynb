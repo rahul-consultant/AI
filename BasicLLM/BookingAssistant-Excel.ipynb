{
 "cells": [
  {
   "cell_type": "markdown",
   "id": "63146c7c-8566-4bb0-88d7-221157a884f1",
   "metadata": {},
   "source": [
    "### Booking assistant\n",
    "\n",
    "This project will use OpenAI, Cloude, Python and open source API."
   ]
  },
  {
   "attachments": {},
   "cell_type": "markdown",
   "id": "6a281eb5-e5cd-4e86-a139-13e96f924d6a",
   "metadata": {},
   "source": [
    "<!DOCTYPE html>\n",
    "<html lang=\"en\">\n",
    "<head>\n",
    "    <meta charset=\"UTF-8\">\n",
    "    <meta name=\"viewport\" content=\"width=device-width, initial-scale=1.0\">\n",
    "    <title>AI-Powered Booking Assistant</title>\n",
    "    <style>\n",
    "        body {\n",
    "            font-family: \"Arial\", sans-serif;\n",
    "            background-color: #f4f4f4;\n",
    "            text-align: center;\n",
    "            padding: 20px;\n",
    "        }\n",
    "        table {\n",
    "            width: 80%;\n",
    "            margin: auto;\n",
    "            border-collapse: collapse;\n",
    "            background: #fff;\n",
    "            box-shadow: 0px 0px 10px rgba(0, 0, 0, 0.1);\n",
    "        }\n",
    "        th, td {\n",
    "            padding: 20px;\n",
    "            text-align: left;\n",
    "            font-size: 18px;\n",
    "        }\n",
    "        th {\n",
    "            background: #2c3e50;\n",
    "            color: white;\n",
    "        }\n",
    "        td {\n",
    "            border-bottom: 1px solid #ddd;\n",
    "        }\n",
    "        img {\n",
    "            display: block;\n",
    "            margin: auto;\n",
    "            border-radius: 10px;\n",
    "        }\n",
    "    </style>\n",
    "</head>\n",
    "<body>\n",
    "    <table>\n",
    "        <tr>\n",
    "            <th></th>\n",
    "            <th></th>\n",
    "        </tr>\n",
    "        <tr>\n",
    "            <td>\n",
    "                This project integrates multiple AI technologies, including OpenAI, Claude, and various open-source APIs, to create an intelligent booking assistant.\n",
    "                The assistant automates scheduling, manages reservations, and provides personalized recommendations based on user preferences. Leveraging natural language processing (NLP)\n",
    "                and machine learning, it ensures seamless interactions and efficient booking experiences across multiple platforms.\n",
    "            </td>\n",
    "            <td>\n",
    "                <img src=\"AIAgent.jpg\" width=\"200\">\n",
    "            </td>\n",
    "        </tr>\n",
    "    </table>\n",
    "</body>\n",
    "</html>\n",
    "\n",
    "\n"
   ]
  },
  {
   "cell_type": "code",
   "execution_count": 2,
   "id": "cf16b92f-6e47-416a-8197-69fd0b9b54fc",
   "metadata": {},
   "outputs": [],
   "source": [
    "# imports\n",
    "\n",
    "import os\n",
    "import json\n",
    "from dotenv import load_dotenv\n",
    "from openai import OpenAI\n",
    "import gradio as gr"
   ]
  },
  {
   "cell_type": "code",
   "execution_count": 3,
   "id": "f251a7b3-095b-4ec3-914d-1ad43958df12",
   "metadata": {},
   "outputs": [
    {
     "name": "stdout",
     "output_type": "stream",
     "text": [
      "OpenAI API Key exists and begins sk-proj-\n"
     ]
    }
   ],
   "source": [
    "# Initialization\n",
    "\n",
    "load_dotenv(override=True)\n",
    "\n",
    "openai_api_key = os.getenv('OPENAI_API_KEY')\n",
    "if openai_api_key:\n",
    "    print(f\"OpenAI API Key exists and begins {openai_api_key[:8]}\")\n",
    "else:\n",
    "    print(\"OpenAI API Key not set\")\n",
    "\n",
    "\n",
    "    \n",
    "    \n",
    "MODEL = \"gpt-4o-mini\"\n",
    "openai = OpenAI()"
   ]
  },
  {
   "cell_type": "code",
   "execution_count": 1,
   "id": "eb53e1cb-8c55-4fe8-a208-90a10b6aa05f",
   "metadata": {},
   "outputs": [],
   "source": [
    "system_message = \"You are a helpful assistant for an Booking Travel option for customer. Your name is Smiley \"\n",
    "system_message += \"Give short, courteous answers, no more than 1 sentence. \"\n",
    "system_message += \"Always be accurate. If you don't know the answer, say so.\"\n"
   ]
  },
  {
   "cell_type": "code",
   "execution_count": 55,
   "id": "4681e9d1-dcc7-46ea-a9d1-c37072b1ac36",
   "metadata": {},
   "outputs": [
    {
     "name": "stdout",
     "output_type": "stream",
     "text": [
      "* Running on local URL:  http://127.0.0.1:7866\n",
      "* To create a public link, set `share=True` in `launch()`.\n"
     ]
    },
    {
     "data": {
      "text/html": [
       "<div><iframe src=\"http://127.0.0.1:7866/\" width=\"100%\" height=\"500\" allow=\"autoplay; camera; microphone; clipboard-read; clipboard-write;\" frameborder=\"0\" allowfullscreen></iframe></div>"
      ],
      "text/plain": [
       "<IPython.core.display.HTML object>"
      ]
     },
     "metadata": {},
     "output_type": "display_data"
    },
    {
     "data": {
      "text/plain": []
     },
     "execution_count": 55,
     "metadata": {},
     "output_type": "execute_result"
    }
   ],
   "source": [
    "def chat(message, history):\n",
    "    messages = [{\"role\": \"system\", \"content\": system_message}] + history + [{\"role\": \"user\", \"content\": message}]\n",
    "    response = openai.chat.completions.create(model=MODEL, messages=messages)\n",
    "    return response.choices[0].message.content\n",
    "\n",
    "#gr.ChatInterface(fn=chat, type=\"messages\").launch()"
   ]
  },
  {
   "cell_type": "code",
   "execution_count": 8,
   "id": "1997a867-81b0-4ba4-91cd-8871c0364259",
   "metadata": {},
   "outputs": [],
   "source": [
    "import csv\n",
    "import random\n",
    "from datetime import datetime, timedelta\n",
    "\n",
    "cities = [\n",
    "    \"New York\", \"London\", \"Paris\", \"Tokyo\", \"Singapore\", \"Melbourne\", \"Dubai\", \"Frankfurt\", \"Toronto\", \"Rome\",\n",
    "    \"Los Angeles\", \"Beijing\", \"Sydney\", \"Istanbul\", \"Bangkok\", \"Hong Kong\", \"Madrid\", \"Chicago\", \"Moscow\", \"Delhi\"\n",
    "]\n",
    "airlines = [\n",
    "    \"British Airways\", \"Air France\", \"Japan Airlines\", \"Singapore Airlines\", \"Qantas\", \"Lufthansa\", \"Delta\", \"Alitalia\",\n",
    "    \"American Airlines\", \"Emirates\", \"Turkish Airlines\", \"Cathay Pacific\", \"United Airlines\", \"Air China\", \"Air India\"\n",
    "]\n",
    "\n",
    "with open(\"flights.csv\", \"w\", newline='') as csvfile:\n",
    "    writer = csv.writer(csvfile)\n",
    "    writer.writerow([\"from_city\", \"to_city\", \"airline\", \"flight_number\", \"departure\", \"arrival\", \"price\", \"currency\"])\n",
    "    for _ in range(1000):\n",
    "        from_city, to_city = random.sample(cities, 2)\n",
    "        airline = random.choice(airlines)\n",
    "        flight_number = airline[:2].upper() + str(random.randint(100, 999))\n",
    "        # Random date in the next 180 days\n",
    "        dep_date = datetime.now() + timedelta(days=random.randint(1, 180))\n",
    "        arr_date = dep_date + timedelta(hours=random.randint(2, 15))\n",
    "        price = random.randint(80, 1500)\n",
    "        writer.writerow([\n",
    "            from_city, to_city, airline, flight_number,\n",
    "            dep_date.strftime(\"%Y-%m-%dT%H:%M\"),\n",
    "            arr_date.strftime(\"%Y-%m-%dT%H:%M\"),\n",
    "            price, \"USD\"\n",
    "        ])"
   ]
  },
  {
   "cell_type": "code",
   "execution_count": 9,
   "id": "b97492fe-fb51-42eb-af5c-3483ba3ea903",
   "metadata": {},
   "outputs": [],
   "source": [
    "import csv\n",
    "import random\n",
    "\n",
    "cities = [\n",
    "    \"New York\", \"London\", \"Paris\", \"Tokyo\", \"Singapore\", \"Melbourne\", \"Dubai\", \"Frankfurt\", \"Toronto\", \"Rome\",\n",
    "    \"Los Angeles\", \"Beijing\", \"Sydney\", \"Istanbul\", \"Bangkok\", \"Hong Kong\", \"Madrid\", \"Chicago\", \"Moscow\", \"Delhi\"\n",
    "]\n",
    "hotel_names = [\n",
    "    \"The Plaza\", \"Hilton\", \"Marriott\", \"Grand Hyatt\", \"InterContinental\", \"Four Seasons\", \"Mandarin Oriental\",\n",
    "    \"Ritz-Carlton\", \"Shangri-La\", \"Westin\", \"Sheraton\", \"Holiday Inn\", \"Radisson Blu\", \"Novotel\", \"Pullman\"\n",
    "]\n",
    "\n",
    "with open(\"hotels.csv\", \"w\", newline='') as csvfile:\n",
    "    writer = csv.writer(csvfile)\n",
    "    writer.writerow([\"hotel_name\", \"city\", \"star_rating\", \"per_night_price\", \"currency\"])\n",
    "    for _ in range(1000):\n",
    "        city = random.choice(cities)\n",
    "        hotel = random.choice(hotel_names) + \" \" + city\n",
    "        star = random.randint(3, 5)\n",
    "        price = random.randint(60, 700)\n",
    "        writer.writerow([hotel, city, star, price, \"USD\"])"
   ]
  },
  {
   "cell_type": "code",
   "execution_count": 11,
   "id": "9d2b15df-277e-4973-89d8-8a13131c7667",
   "metadata": {},
   "outputs": [
    {
     "name": "stdin",
     "output_type": "stream",
     "text": [
      "From city:  London\n",
      "To city:  Dubai\n",
      "Departure date (YYYY-MM-DD):  2025-07-14\n"
     ]
    },
    {
     "name": "stdout",
     "output_type": "stream",
     "text": [
      "{'from_city': 'London', 'to_city': 'Dubai', 'airline': 'Air France', 'flight_number': 'AI829', 'departure': '2025-07-14T15:25', 'arrival': '2025-07-15T03:25', 'price': '523', 'currency': 'USD'}\n"
     ]
    }
   ],
   "source": [
    "import csv\n",
    "from datetime import datetime\n",
    "\n",
    "def find_flights(from_city, to_city, date, csv_file=\"flights.csv\"):\n",
    "    results = []\n",
    "    with open(csv_file, newline='') as csvfile:\n",
    "        reader = csv.DictReader(csvfile)\n",
    "        for row in reader:\n",
    "            if (row['from_city'].lower() == from_city.lower() and\n",
    "                row['to_city'].lower() == to_city.lower() and\n",
    "                row['departure'].startswith(date)):\n",
    "                results.append(row)\n",
    "    return results\n",
    "\n",
    "# Example usage:\n",
    "if __name__ == \"__main__\":\n",
    "    from_city = input(\"From city: \")\n",
    "    to_city = input(\"To city: \")\n",
    "    date = input(\"Departure date (YYYY-MM-DD): \")\n",
    "    flights = find_flights(from_city, to_city, date)\n",
    "    if flights:\n",
    "        for f in flights:\n",
    "            print(f)\n",
    "    else:\n",
    "        print(\"No flights found.\")"
   ]
  },
  {
   "cell_type": "code",
   "execution_count": 7,
   "id": "637da005-cfbb-4fcd-acac-1cb9714065f3",
   "metadata": {},
   "outputs": [
    {
     "name": "stdin",
     "output_type": "stream",
     "text": [
      "City:  London\n",
      "Check-in date (YYYY-MM-DD):  2025-07-21\n",
      "Check-out date (YYYY-MM-DD):  2025-07-24\n"
     ]
    },
    {
     "name": "stdout",
     "output_type": "stream",
     "text": [
      "{'hotel_name': 'Hilton London', 'star_rating': '4', 'per_night_price': '210', 'nights': 3, 'total_price': 630.0, 'currency': 'USD'}\n"
     ]
    }
   ],
   "source": [
    "import csv\n",
    "from datetime import datetime\n",
    "\n",
    "def find_hotels(city, checkin, checkout, csv_file=\"hotels.csv\"):\n",
    "    nights = (datetime.strptime(checkout, \"%Y-%m-%d\") - datetime.strptime(checkin, \"%Y-%m-%d\")).days\n",
    "    results = []\n",
    "    with open(csv_file, newline='') as csvfile:\n",
    "        reader = csv.DictReader(csvfile)\n",
    "        for row in reader:\n",
    "            if row['city'].lower() == city.lower():\n",
    "                total_price = nights * float(row['per_night_price'])\n",
    "                results.append({\n",
    "                    \"hotel_name\": row['hotel_name'],\n",
    "                    \"star_rating\": row['star_rating'],\n",
    "                    \"per_night_price\": row['per_night_price'],\n",
    "                    \"nights\": nights,\n",
    "                    \"total_price\": total_price,\n",
    "                    \"currency\": row['currency']\n",
    "                })\n",
    "    return results\n",
    "\n",
    "# Example usage:\n",
    "if __name__ == \"__main__\":\n",
    "    city = input(\"City: \")\n",
    "    checkin = input(\"Check-in date (YYYY-MM-DD): \")\n",
    "    checkout = input(\"Check-out date (YYYY-MM-DD): \")\n",
    "    hotels = find_hotels(city, checkin, checkout)\n",
    "    if hotels:\n",
    "        for h in hotels:\n",
    "            print(h)\n",
    "    else:\n",
    "        print(\"No hotels found.\")"
   ]
  },
  {
   "cell_type": "code",
   "execution_count": 12,
   "id": "3a25c599-87e0-4dc9-ae3c-cd9bb1820a84",
   "metadata": {},
   "outputs": [],
   "source": [
    "# There's a particular dictionary structure that's required to describe our function:\n",
    "\n",
    "Flight_price_function = {\n",
    "    \"name\": \"find_flights\",\n",
    "    \"description\": \"Get the price of a one-way flight ticket to the destination city. Call this whenever you need to know the ticket price, for example when a customer asks 'How much is a ticket to this city?'\",\n",
    "    \"parameters\": {\n",
    "        \"type\": \"object\",\n",
    "        \"properties\": {\n",
    "            \"from_city\": {\n",
    "                \"type\": \"string\",\n",
    "                \"description\": \"The city the customer is departing from\"\n",
    "            },\n",
    "            \"destination_city\": {\n",
    "                \"type\": \"string\",\n",
    "                \"description\": \"The city that the customer wants to travel to\"\n",
    "            },\n",
    "            \"date\": {\n",
    "                \"type\": \"string\",\n",
    "                \"description\": \"The date of travel in YYYY-MM-DD format\"\n",
    "            }\n",
    "        },\n",
    "        \"required\": [\"from_city\", \"destination_city\", \"date\"],\n",
    "        \"additionalProperties\": False\n",
    "    }\n",
    "}"
   ]
  },
  {
   "cell_type": "code",
   "execution_count": 13,
   "id": "870ac8ee-dd45-45e4-a902-778e29503dfb",
   "metadata": {},
   "outputs": [],
   "source": [
    "Hotel_price_function = {\n",
    "    \"name\": \"find_hotels\",\n",
    "    \"description\": \"Get hotel prices in a city for given check-in and check-out dates. Call this whenever you need to know hotel prices, for example when a customer asks 'How much are hotels in this city?'\",\n",
    "    \"parameters\": {\n",
    "        \"type\": \"object\",\n",
    "        \"properties\": {\n",
    "            \"city_name\": {\n",
    "                \"type\": \"string\",\n",
    "                \"description\": \"The city where the customer wants to book a hotel\"\n",
    "            },\n",
    "            \"checkin\": {\n",
    "                \"type\": \"string\",\n",
    "                \"description\": \"Check-in date in YYYY-MM-DD format\"\n",
    "            },\n",
    "            \"checkout\": {\n",
    "                \"type\": \"string\",\n",
    "                \"description\": \"Check-out date in YYYY-MM-DD format\"\n",
    "            }\n",
    "        },\n",
    "        \"required\": [\"city_name\", \"checkin\", \"checkout\"],\n",
    "        \"additionalProperties\": False\n",
    "    }\n",
    "}"
   ]
  },
  {
   "cell_type": "code",
   "execution_count": null,
   "id": "591ef1dc-5667-4597-a74e-7111dc8dea57",
   "metadata": {},
   "outputs": [],
   "source": []
  },
  {
   "cell_type": "code",
   "execution_count": null,
   "id": "ee627dba-b7e1-43ce-84d8-b9f2473f4c2c",
   "metadata": {},
   "outputs": [],
   "source": []
  },
  {
   "cell_type": "code",
   "execution_count": 14,
   "id": "26ac2259-c963-4d04-bac8-0c016597bfef",
   "metadata": {},
   "outputs": [],
   "source": [
    "# And this is included in a list of tools:\n",
    "flight_tools = [{\"type\": \"function\", \"function\": Flight_price_function}]\n",
    "hotel_tools = [{\"type\": \"function\", \"function\": Hotel_price_function}]\n",
    "tools = flight_tools + hotel_tools\n"
   ]
  },
  {
   "cell_type": "code",
   "execution_count": 15,
   "id": "9674cc3f-4a72-4534-9bfe-7c407522bbcf",
   "metadata": {},
   "outputs": [],
   "source": [
    "def chat(message, history):\n",
    "    messages = [{\"role\": \"system\", \"content\": system_message}] + history + [{\"role\": \"user\", \"content\": message}]\n",
    "    response = openai.chat.completions.create(model=MODEL, messages=messages, tools=tools)\n",
    "\n",
    "    if response.choices[0].finish_reason==\"tool_calls\":\n",
    "        message = response.choices[0].message\n",
    "        response, city = handle_tool_call(message)\n",
    "        messages.append(message)\n",
    "        messages.append(response)\n",
    "        response = openai.chat.completions.create(model=MODEL, messages=messages)\n",
    "    \n",
    "    return response.choices[0].message.content"
   ]
  },
  {
   "cell_type": "code",
   "execution_count": 22,
   "id": "5d995148-b9ec-4c16-951a-b15827ca9ce0",
   "metadata": {},
   "outputs": [],
   "source": [
    "def handle_tool_call(message):\n",
    "    tool_call = message.tool_calls[0]\n",
    "    arguments = json.loads(tool_call.function.arguments)\n",
    "    tool_name = tool_call.function.name\n",
    "\n",
    "    if tool_name == \"find_flights\":\n",
    "        from_city = arguments.get('from_city')\n",
    "        to_city = arguments.get('destination_city')\n",
    "        date = arguments.get('date')\n",
    "        flights = find_flights(\n",
    "            from_city=from_city,\n",
    "            to_city=to_city,\n",
    "            date=date\n",
    "        )\n",
    "        response_content = {\n",
    "            \"from_city\": from_city,\n",
    "            \"to_city\": to_city,\n",
    "            \"date\": date,\n",
    "            \"flights\": flights\n",
    "        }\n",
    "        city = to_city\n",
    "\n",
    "    elif tool_name == \"find_hotels\":\n",
    "        city_name = arguments.get('city_name')\n",
    "        checkin = arguments.get('checkin')\n",
    "        checkout = arguments.get('checkout')\n",
    "        hotels = find_hotels(\n",
    "            city=city_name,\n",
    "            checkin=checkin,\n",
    "            checkout=checkout\n",
    "        )\n",
    "        response_content = {\n",
    "            \"city_name\": city_name,\n",
    "            \"checkin\": checkin,\n",
    "            \"checkout\": checkout,\n",
    "            \"hotels\": hotels\n",
    "        }\n",
    "        city = city_name\n",
    "\n",
    "    else:\n",
    "        response_content = {\"error\": \"Unknown tool\"}\n",
    "        city = None\n",
    "\n",
    "    response = {\n",
    "        \"role\": \"tool\",\n",
    "        \"content\": json.dumps(response_content),\n",
    "        \"tool_call_id\": tool_call.id\n",
    "    }\n",
    "    return response, city"
   ]
  },
  {
   "cell_type": "code",
   "execution_count": 23,
   "id": "7e29c7b4-7d2f-446b-a86b-4ca5d30e6da8",
   "metadata": {
    "scrolled": true
   },
   "outputs": [
    {
     "name": "stdout",
     "output_type": "stream",
     "text": [
      "* Running on local URL:  http://127.0.0.1:7864\n",
      "* To create a public link, set `share=True` in `launch()`.\n"
     ]
    },
    {
     "data": {
      "text/html": [
       "<div><iframe src=\"http://127.0.0.1:7864/\" width=\"100%\" height=\"500\" allow=\"autoplay; camera; microphone; clipboard-read; clipboard-write;\" frameborder=\"0\" allowfullscreen></iframe></div>"
      ],
      "text/plain": [
       "<IPython.core.display.HTML object>"
      ]
     },
     "metadata": {},
     "output_type": "display_data"
    },
    {
     "data": {
      "text/plain": []
     },
     "execution_count": 23,
     "metadata": {},
     "output_type": "execute_result"
    }
   ],
   "source": [
    "gr.ChatInterface(fn=chat, type=\"messages\").launch()"
   ]
  },
  {
   "cell_type": "code",
   "execution_count": null,
   "id": "daf854e5-de68-422a-8bfc-2f373a91f68c",
   "metadata": {},
   "outputs": [],
   "source": []
  }
 ],
 "metadata": {
  "kernelspec": {
   "display_name": "Python [conda env:base] *",
   "language": "python",
   "name": "conda-base-py"
  },
  "language_info": {
   "codemirror_mode": {
    "name": "ipython",
    "version": 3
   },
   "file_extension": ".py",
   "mimetype": "text/x-python",
   "name": "python",
   "nbconvert_exporter": "python",
   "pygments_lexer": "ipython3",
   "version": "3.12.7"
  }
 },
 "nbformat": 4,
 "nbformat_minor": 5
}
