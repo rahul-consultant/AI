{
 "cells": [
  {
   "cell_type": "raw",
   "id": "557ba8ef-a027-42d4-9587-7bf0b020fac9",
   "metadata": {},
   "source": [
    "Generate Cover Letter on OLLAMA Model\n"
   ]
  },
  {
   "cell_type": "code",
   "execution_count": 3,
   "id": "2da0f3a5-f2d9-4c82-9c0a-058ce992d940",
   "metadata": {},
   "outputs": [],
   "source": [
    "# imports\n",
    "\n",
    "import requests\n",
    "import ipywidgets as widgets\n",
    "from IPython.display import display\n",
    "import openai\n",
    "import PyPDF2\n",
    "import docx\n",
    "import io"
   ]
  },
  {
   "cell_type": "code",
   "execution_count": 4,
   "id": "f4513043-df04-45c8-8521-882ff4086f37",
   "metadata": {},
   "outputs": [
    {
     "data": {
      "application/vnd.jupyter.widget-view+json": {
       "model_id": "90d2f0776b7646b8a967ec51b2b0ddb8",
       "version_major": 2,
       "version_minor": 0
      },
      "text/plain": [
       "FileUpload(value=(), accept='.pdf,.docx', description='Upload')"
      ]
     },
     "metadata": {},
     "output_type": "display_data"
    }
   ],
   "source": [
    "# File Upload Widget\n",
    "\n",
    "cv_upload = widgets.FileUpload(\n",
    "    accept='.pdf,.docx',\n",
    "    multiple=False\n",
    ")\n",
    "display(cv_upload)\n"
   ]
  },
  {
   "cell_type": "code",
   "execution_count": 10,
   "id": "33537c8a-c98a-4144-b46c-70ec043bec49",
   "metadata": {},
   "outputs": [
    {
     "name": "stdout",
     "output_type": "stream",
     "text": [
      "1 \n",
      " \n",
      " \n",
      " \n",
      " \n",
      " RAHUL  \n",
      "Mobile: +31618509867  \n",
      "Email: rahul.singh@ing.com  \n",
      "Certification Transcript Link   \n",
      "            \n",
      "  \n",
      " \n",
      "Career Objective  \n",
      "Seeking a challenging position as architect  to manage and develop highly available, \n",
      "scalable,  and optimized N -Tier based distributed applications, where my diverse experience \n",
      "and knowledge  can be utilized most effectively.  \n",
      "Professional Snapshot  \n",
      "❖ 15 Year of experience in Public Cloud and Microsoft technologies.  \n",
      "❖ Accenture certified Architect . \n",
      "❖ A Consultant with exposure in Consultancy, Training and Technical \n",
      "Architecture.  \n",
      "❖ Highly skilled IT professional with extensive experience in designing, training, \n",
      "architecture and managing software solutions for clients using Microsoft \n",
      "Technologies.  \n",
      "❖ Hands on experience working with Cloud Computing. Microsoft certified in \n",
      "IaaS, PaaS and Architecting Azure.  \n",
      "❖ Agile practitioner with in -depth experience in Project Management.  \n",
      "❖ Experience in Onshore Offshore coordination and Team\n"
     ]
    }
   ],
   "source": [
    "def extract_text_from_cv(upload_widget):\n",
    "    if not upload_widget.value:\n",
    "        return \"\"\n",
    "    uploaded_file = upload_widget.value[0]  # Access the first file (tuple of dicts)\n",
    "    content = uploaded_file['content']\n",
    "    name = uploaded_file['name']  # Use 'name' instead of 'metadata'\n",
    "    if name.endswith('.pdf'):\n",
    "        reader = PyPDF2.PdfReader(io.BytesIO(content))\n",
    "        text = \"\"\n",
    "        for page in reader.pages:\n",
    "            text += page.extract_text() or \"\"\n",
    "        return text\n",
    "    elif name.endswith('.docx'):\n",
    "        doc = docx.Document(io.BytesIO(content))\n",
    "        return \"\\n\".join([para.text for para in doc.paragraphs])\n",
    "    else:\n",
    "        return \"\"\n",
    "\n",
    "cv_text = extract_text_from_cv(cv_upload)\n",
    "print(cv_text[:1000])  # Preview first 1000 characters"
   ]
  },
  {
   "cell_type": "code",
   "execution_count": 6,
   "id": "2e8345a8-4ce0-435f-943e-3b0296357d8b",
   "metadata": {},
   "outputs": [],
   "source": [
    "# Constants\n",
    "\n",
    "OLLAMA_API = \"http://localhost:11434/api/chat\"\n",
    "HEADERS = {\"Content-Type\": \"application/json\"}\n",
    "MODEL = \"llama3.2\""
   ]
  },
  {
   "cell_type": "code",
   "execution_count": 11,
   "id": "23ff5e62-1173-47d3-9325-571e94191c9d",
   "metadata": {},
   "outputs": [
    {
     "name": "stdout",
     "output_type": "stream",
     "text": [
      "[{'role': 'user', 'content': 'Generate a cover letter based on the following resume information:\\n1 \\n \\n \\n \\n \\n RAHUL  \\nMobile: +31618509867  \\nEmail: rahul.singh@ing.com  \\nCertification Transcript Link   \\n            \\n  \\n \\nCareer Objective  \\nSeeking a challenging position as architect  to manage and develop highly available, \\nscalable,  and optimized N -Tier based distributed applications, where my diverse experience \\nand knowledge  can be utilized most effectively.  \\nProfessional Snapshot  \\n❖ 15 Year of experience in Public Cloud and Microsoft technologies.  \\n❖ Accenture certified Architect . \\n❖ A Consultant with exposure in Consultancy, Training and Technical \\nArchitecture.  \\n❖ Highly skilled IT professional with extensive experience in designing, training, \\narchitecture and managing software solutions for clients using Microsoft \\nTechnologies.  \\n❖ Hands on experience working with Cloud Computing. Microsoft certified in \\nIaaS, PaaS and Architecting Azure.  \\n❖ Agile practitioner with in -depth experience in Project Management.  \\n❖ Experience in Onshore Offshore coordination and Team management.  \\n❖ A proactive learner with a flair for adopting emerging trends & addressing \\nindustry requirements to achieve organizational objectives & profitability \\nnorms.  \\n❖ Highly skilled IT professional with  extensive experience in designing, training, \\narchitecture and managing  software solutions for clients using Microsoft \\nTechnologies.  \\n❖ Hands on experience in DevOps using Azure DevOps,  TFS. \\n❖ Hands on experience in Data Analytics using Azure Data Factory, Data Lake, \\nSQL Server, Bi Data, HDInsight  and Power BI.  \\n❖ Hands on experience working with Mobility technologies like Universal \\nWindows Platform (UWP), Xamarin and IONIC 2.  \\n❖ Hands on experience  of .Net Framework Web technologies like MVC, ASP.Net, \\nHTML  5, JavaScript . \\n❖ Good Exposure to industries like: Mortgages, Banking, Warehouse \\nManagement System, Supply Chain Management, Automation Industry, \\nJudicial, Forensic, Healthcare, Energy, Biometric, Mobility and Retail Chain.  \\n \\n \\n \\n2 \\n \\n \\n \\n \\n Academic  \\n✓ Bachelor of Engineering in Computer Engineering  from Institute of Engineering and \\nTechnology, affiliated to Rajasthan University in 2008.  \\n \\nAwards and Accolades  \\n✓ ACE Award in 2015 -Accenture.  \\n✓ Technology Architect -Accenture.  \\n✓ Technology Architect Associate – Accenture.  \\n✓ Accenture Technology Academy Application Design Certified  \\nManagement Skills: - \\n \\n✓ Project Management  \\n✓ Team Management  \\n✓ Asset Management  \\n✓ Onshore Offshore coordinator  \\n✓ Agile Practitioner  \\n✓ Scrum Master  \\nTechnical Skills: - \\nCategories  Skills  \\nOS Windows  \\nCloud  Microsoft Azure ,ING Private Cloud, Azure Stack  \\nContainer  AKS, Kubernetes,  OpenShift,  Docker  \\nData Analytics  Microsoft Power BI, Azure Data Factory, Azure Data \\nLake,  HDInsight  \\nDevOps  Azure DevOps, TFS  \\nAI  Microsoft Cognitive Services,  Azure AI  \\nAutomation  Microsoft Bot Framework, Azure  automation, \\nPowerShell , DSC  \\nBPM  Microsoft CRM  \\nWindows Development  WPF, Universal Windows Platform, Forms  \\nIntegration Technologies  WCF, API, API management  \\nMobility  Universal Windows Platform, Xamarin,  Ionic 2  \\nWeb  MVC, Asp.net  ,HTML 5,Angular  \\nDatabase  SQL Server  \\nCertification  \\n \\n❖ Cloud  \\n \\n✓ MCTS 70 -532(Azure development)  \\n✓ MCTS 70 -533(Azure Infrastructure)  \\n✓ MCTS 70 -534 (Architect Azure Solution)  \\n✓ Microsoft Certified Solution Expert | Cloud and Infrastructure  3 \\n \\n \\n \\n \\n  \\n❖ .Net Framework  \\n \\n✓ MCTS 70 -536(.NET FRAMEWORK 3.5)  \\n \\n❖ Windows Technology  \\n \\n✓ MCTS 70 -511(WPF)  \\n \\n❖ Integration Technology  \\n \\n✓ MCTS 70 -513(WCF)  \\n \\n      Certification Transcript Link   \\n \\nWork Experience  \\n❖ ING  Bank - Dev Engineer Proficient     05/2018 – Present                Amsterda m \\n \\nThe ING Group is a Dutch multinational banking and ﬁnancial services corporation \\nheadquartered in Amsterdam.  \\n \\n \\n• Project planning and implementation.  \\n• Worked as Cloud consultant to support various migration.  \\n• Helped in hiring various resources for the project.  \\n• Collaborated with various teams to streamline migration.  \\n• Trained and helped resources to understand key technologies.  \\n• Lead migrations for various team by eﬀectively planning and \\ncommunicating roles and responsibilities.  \\n \\n \\n \\nProject name  Description  \\nLead HPA reduction within \\nmortgages  Lead HPA reduction program within mortgages . \\nAutomated various manual works. Helped many \\nteam solve their HPA logon issues. Provided \\narchitecture guidance and helped them in planning.  \\nING Private Cloud migration  Migrated applications to IPC . Lead lot of projects  \\nwithin mortgages for migration and completed \\nsuccessfully.  \\nAzure DevOps migration  TFS and Gitlab were used within ING for code \\nrepository and deployment. Lead  lot of projects  \\nwithin mortgages for Azure DevOps migration.  \\nAutocert  implementation  Renewal and provisioning of certificates were made \\neasy by Autocert. Developed pipeline to request and \\nrenew old certificate.   \\n4 \\n \\n \\n \\n \\n Application support  Worked as Dev Engineer and OPs engineer to \\nsupport various TripleA IT  product.  \\n \\n \\n \\n \\n❖ Accenture  - Team Lead    0 3 / 2 0 1 3  - 0 4 / 2 0 1 8                  Bengaluru,  Eindhov en \\n \\nAccenture plc is an Irish American professional services company based in \\nDublin, specializing in information technology services and consulting. A \\nFortune Global 500 company.  \\n \\n• Winner of Accenture ACE award  \\n• Accenture certiﬁed Architect  \\n• Accenture Technology Academy - Application Design Certiﬁed  \\n• Managed large team as Team lead. Helped teams in Project Planning,  \\nResource Planning,  Onshore and Oﬀshore coordination.  \\n \\nProject name  Description  \\nDLL Azure Analytics platform  Design and Develop Azure Analytics platform. It \\nprovides  end to end solution from Data ingestion,  \\ncleaning,  storage,  analytics to visualization using \\nPower BI.  \\nICA, RSA Galaxy, Avatar  Team leads  and architect.  \\nAPPRA  Managed 15-member  team.  Worked as architect and \\ndeveloper  on Azure and web -based  application.  \\nAccenture labs  Building various products for Accenture labs \\nexample benchmark tool, Evis, Enrolment  \\napplication,  Biometrics related application . \\n \\n \\n❖ Symphony Teleca  – Senior Software Engineer    05/ 2 0 1 2 - 03/ 2 0 1 3                  \\nBengaluru  \\n \\nSymphony Teleca  is now Harman Connected Services, often abbreviated to \\nHCS, is an American software company which is a subsidiary of Samsung \\nElectronics.  \\nProject name  Description  \\nSmart meter (Landis gear)  Worked as Developer.  \\n \\n \\n \\n❖ Religare  Technologies India Pvt  – Software Engineer     05/ 2 0 1 2 - 03/ 2 0 1 3                  \\nBengaluru  \\n \\n \\nReligare  technologies India Pvt is an Indian IT company which provide \\nvarious software solution to different client.  \\n \\n5 \\n \\n \\n \\n \\n Project name  Description  \\nMagnum  Worked as developer to develop healthcare \\nmanagement system . \\n \\n \\n \\n❖ Atkins India Pvt Ltd – Jr. Software Engineer     11/ 2 0 1 0 - 05/ 2 0 1 1                  \\nBengaluru, Eindhoven  \\n \\nAtkins is a Canadian -British multinational engineering, design, planning, \\narchitectural design, project management and consulting services company. \\nIt is a subsidiary of SNC-Lavalin and is headquartered in London.  \\nProject name  Description  \\nMarine Scotland  Worked as developer to develop marine Scotland \\nmap.  \\n \\n \\n❖ ASAP AUTOMATION - Jr. Software Engineer     04/ 2 009 - 10/ 2 0 1 0                \\nBengaluru,  \\n \\nAsap automation is now part of Bastian Solutions, a Toyota Advanced \\nLogistics company.  \\nProject name  Description  \\nPut to light , Print and Apply \\nsystem, Exacta  Worked as developer and site manager to \\nimplement various warehouse automation system.  \\n \\n \\n \\nPersonal Details  \\nDate of Birth:  14th June 1986 \\nFather’s Name:  Anil Kumar Singh  \\nAddress:  Jan Rijksenstraat  115, Almere , NL 1335 NR       \\nLinguistic Abilities : English,  Hindi, Learning Dutch Language.  \\nCitizenship : Dutch    \\n \\n \\n \\n \\n \\n \\n \\n \\n \\n \\n \\n \\n \\n \\n \\n6 \\n \\n \\n \\n \\n  \\n \\n \\n \\nDate: ______________________              Signature: ________________________  '}]\n"
     ]
    }
   ],
   "source": [
    "# Create a messages list using the same format that we used for OpenAI\n",
    "\n",
    "messages = [\n",
    "    {\n",
    "        \"role\": \"user\",\n",
    "        \"content\": f\"Generate a cover letter based on the following resume information:\\n{cv_text}\"\n",
    "    }\n",
    "]\n",
    "print(messages)"
   ]
  },
  {
   "cell_type": "code",
   "execution_count": 12,
   "id": "37b3773b-4546-461f-9b90-271060c9c428",
   "metadata": {},
   "outputs": [],
   "source": [
    "payload = {\n",
    "        \"model\": MODEL,\n",
    "        \"messages\": messages,\n",
    "        \"stream\": False\n",
    "    }"
   ]
  },
  {
   "cell_type": "code",
   "execution_count": 14,
   "id": "9f427881-21f5-4755-811c-fc1f36b5dad7",
   "metadata": {},
   "outputs": [
    {
     "name": "stdout",
     "output_type": "stream",
     "text": [
      "Here is a cover letter based on the provided resume information:\n",
      "\n",
      "[Your Name]\n",
      "RAHUL\n",
      "[Mobile Number]\n",
      "[Email Address]\n",
      "\n",
      "[Date]\n",
      "\n",
      "[Hiring Manager's Name]\n",
      "[Company Name]\n",
      "[Company Address]\n",
      "\n",
      "Dear [Hiring Manager's Name],\n",
      "\n",
      "I am excited to apply for the Architect position at [Company Name], where I can utilize my 15 years of experience in Public Cloud and Microsoft technologies to manage and develop highly available, scalable, and optimized N-Tier based distributed applications.\n",
      "\n",
      "As a seasoned IT professional with extensive experience in designing, training, architecture, and managing software solutions for clients using Microsoft Technologies, I am confident in my ability to leverage my expertise in Cloud Computing, Agile methodologies, and Project Management to drive success in this role. My hands-on experience working with Cloud Computing, including Microsoft Azure, ING Private Cloud, and Azure Stack, enables me to design and implement scalable and secure cloud solutions.\n",
      "\n",
      "My certifications, including MCTS 70-532(Azure development), MCTS 70-533(Azure Infrastructure), and Microsoft Certified Solution Expert | Cloud and Infrastructure 3, demonstrate my expertise in architecting and implementing cloud-based solutions. Additionally, my experience with DevOps using Azure DevOps, TFS, Data Analytics using Azure Data Factory, and Power BI showcases my ability to deliver high-quality software solutions.\n",
      "\n",
      "As a proactive learner with a flair for adopting emerging trends and addressing industry requirements to achieve organizational objectives and profitability norms, I am well-equipped to navigate the ever-changing technological landscape. My experience in Onshore Offshore coordination and Team management has also enabled me to effectively collaborate with cross-functional teams to drive project success.\n",
      "\n",
      "I am particularly drawn to [Company Name] because of its commitment to innovation and excellence. As an architect with a strong background in Public Cloud and Microsoft technologies, I believe that I can make a meaningful contribution to the company's success.\n",
      "\n",
      "Thank you for considering my application. I would welcome the opportunity to discuss how my skills and experience align with the requirements of this role. Please feel free to contact me at [Mobile Number] or [Email Address].\n",
      "\n",
      "Sincerely,\n",
      "\n",
      "RAHUL\n",
      "\n",
      "[Your Name]\n",
      "\n",
      "Note: Make sure to customize the cover letter according to your own experiences and style, and proofread it multiple times for grammar and formatting errors before submitting it.\n"
     ]
    }
   ],
   "source": [
    "# If this doesn't work for any reason, try the 2 versions in the following cells\n",
    "# And double check the instructions in the 'Recap on installation of Ollama' at the top of this lab\n",
    "# And if none of that works - contact me!\n",
    "\n",
    "response = requests.post(OLLAMA_API, json=payload, headers=HEADERS)\n",
    "print(response.json()['message']['content'])"
   ]
  },
  {
   "cell_type": "code",
   "execution_count": null,
   "id": "5a7bb925-e536-413a-97dd-e387e28e4970",
   "metadata": {},
   "outputs": [],
   "source": []
  },
  {
   "cell_type": "code",
   "execution_count": null,
   "id": "8d09483c-f0dd-4b14-ac24-27b820e429d0",
   "metadata": {},
   "outputs": [],
   "source": []
  }
 ],
 "metadata": {
  "kernelspec": {
   "display_name": "Python [conda env:base] *",
   "language": "python",
   "name": "conda-base-py"
  },
  "language_info": {
   "codemirror_mode": {
    "name": "ipython",
    "version": 3
   },
   "file_extension": ".py",
   "mimetype": "text/x-python",
   "name": "python",
   "nbconvert_exporter": "python",
   "pygments_lexer": "ipython3",
   "version": "3.12.7"
  }
 },
 "nbformat": 4,
 "nbformat_minor": 5
}
