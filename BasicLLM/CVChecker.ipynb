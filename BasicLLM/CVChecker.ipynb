{
 "cells": [
  {
   "cell_type": "markdown",
   "id": "8da2d932-3928-4db1-92fc-cce3b8b29dfd",
   "metadata": {},
   "source": [
    "## CV Analysis\n",
    "\n",
    "This lab will analysize CV\n"
   ]
  },
  {
   "cell_type": "code",
   "execution_count": 22,
   "id": "93cbc7e8-c008-461c-b94b-7526b6ace3fa",
   "metadata": {},
   "outputs": [
    {
     "name": "stdout",
     "output_type": "stream",
     "text": [
      "Collecting python-docx\n",
      "  Downloading python_docx-1.1.2-py3-none-any.whl.metadata (2.0 kB)\n",
      "Requirement already satisfied: lxml>=3.1.0 in /opt/anaconda3/lib/python3.12/site-packages (from python-docx) (5.2.1)\n",
      "Requirement already satisfied: typing-extensions>=4.9.0 in /opt/anaconda3/lib/python3.12/site-packages (from python-docx) (4.11.0)\n",
      "Downloading python_docx-1.1.2-py3-none-any.whl (244 kB)\n",
      "Installing collected packages: python-docx\n",
      "Successfully installed python-docx-1.1.2\n"
     ]
    }
   ],
   "source": [
    "#!pip install ipywidgets pdfplumber openai\n",
    "#!jupyter nbextension enable --py widgetsnbextension\n",
    "#!jupyter labextension install @jupyter-widgets/jupyterlab-manager\n",
    "#!pip install --upgrade jupyterlab ipywidgets\n",
    "#!pip install python-docx"
   ]
  },
  {
   "cell_type": "code",
   "execution_count": 29,
   "id": "79f377fe-b410-41f0-bf3e-d0796daf09da",
   "metadata": {},
   "outputs": [],
   "source": [
    "# imports\n",
    "import ipywidgets as widgets\n",
    "from IPython.display import display\n",
    "import openai\n",
    "import PyPDF2\n",
    "import docx\n",
    "import io\n",
    "\n"
   ]
  },
  {
   "cell_type": "code",
   "execution_count": 30,
   "id": "ed7d762a-aa16-4acc-bdde-61b1e1d9eded",
   "metadata": {},
   "outputs": [
    {
     "data": {
      "application/vnd.jupyter.widget-view+json": {
       "model_id": "2e613f42f2e54e0286a3097d1c7e219e",
       "version_major": 2,
       "version_minor": 0
      },
      "text/plain": [
       "FileUpload(value=(), accept='.pdf,.docx', description='Upload')"
      ]
     },
     "metadata": {},
     "output_type": "display_data"
    }
   ],
   "source": [
    "# File Upload Widget\n",
    "\n",
    "cv_upload = widgets.FileUpload(\n",
    "    accept='.pdf,.docx',\n",
    "    multiple=False\n",
    ")\n",
    "display(cv_upload)\n"
   ]
  },
  {
   "cell_type": "code",
   "execution_count": 31,
   "id": "d583920f-9b99-42be-9d5f-4819213fccd3",
   "metadata": {},
   "outputs": [
    {
     "data": {
      "application/vnd.jupyter.widget-view+json": {
       "model_id": "b0ca975797ee4ebda1a14ce6812da20d",
       "version_major": 2,
       "version_minor": 0
      },
      "text/plain": [
       "Textarea(value='', description='Job Description:', layout=Layout(height='150px', width='80%'), placeholder='Pa…"
      ]
     },
     "metadata": {},
     "output_type": "display_data"
    }
   ],
   "source": [
    "\n",
    "# Job Description Input\n",
    "job_desc = widgets.Textarea(\n",
    "    value='',\n",
    "    placeholder='Paste job description here',\n",
    "    description='Job Description:',\n",
    "    layout=widgets.Layout(width='80%', height='150px')\n",
    ")\n",
    "display(job_desc)\n"
   ]
  },
  {
   "cell_type": "code",
   "execution_count": 33,
   "id": "0fc8e44e-c807-4cae-92fc-831f94568f0a",
   "metadata": {},
   "outputs": [
    {
     "name": "stdout",
     "output_type": "stream",
     "text": [
      "1 \n",
      " \n",
      " \n",
      " \n",
      " \n",
      " RAHUL  \n",
      "Mobile: +31618509867  \n",
      "Email: rahul.singh@ing.com  \n",
      "Certification Transcript Link   \n",
      "            \n",
      "  \n",
      " \n",
      "Career Objective  \n",
      "Seeking a challenging position as architect  to manage and develop highly available, \n",
      "scalable,  and optimized N -Tier based distributed applications, where my diverse experience \n",
      "and knowledge  can be utilized most effectively.  \n",
      "Professional Snapshot  \n",
      "❖ 15 Year of experience in Public Cloud and Microsoft technologies.  \n",
      "❖ Accenture certified Architect . \n",
      "❖ A Consultant with exposure in Consultancy, Training and Technical \n",
      "Architecture.  \n",
      "❖ Highly skilled IT professional with extensive experience in designing, training, \n",
      "architecture and managing software solutions for clients using Microsoft \n",
      "Technologies.  \n",
      "❖ Hands on experience working with Cloud Computing. Microsoft certified in \n",
      "IaaS, PaaS and Architecting Azure.  \n",
      "❖ Agile practitioner with in -depth experience in Project Management.  \n",
      "❖ Experience in Onshore Offshore coordination and Team\n"
     ]
    }
   ],
   "source": [
    "def extract_text_from_cv(upload_widget):\n",
    "    if not upload_widget.value:\n",
    "        return \"\"\n",
    "    uploaded_file = upload_widget.value[0]  # Access the first file (tuple of dicts)\n",
    "    content = uploaded_file['content']\n",
    "    name = uploaded_file['name']  # Use 'name' instead of 'metadata'\n",
    "    if name.endswith('.pdf'):\n",
    "        reader = PyPDF2.PdfReader(io.BytesIO(content))\n",
    "        text = \"\"\n",
    "        for page in reader.pages:\n",
    "            text += page.extract_text() or \"\"\n",
    "        return text\n",
    "    elif name.endswith('.docx'):\n",
    "        doc = docx.Document(io.BytesIO(content))\n",
    "        return \"\\n\".join([para.text for para in doc.paragraphs])\n",
    "    else:\n",
    "        return \"\"\n",
    "\n",
    "cv_text = extract_text_from_cv(cv_upload)\n",
    "print(cv_text[:1000])  # Preview first 1000 characters"
   ]
  },
  {
   "cell_type": "code",
   "execution_count": 34,
   "id": "8912f11e-89ae-4eac-8daf-abbe416b658f",
   "metadata": {},
   "outputs": [
    {
     "name": "stdout",
     "output_type": "stream",
     "text": [
      "API key found and looks good so far!\n"
     ]
    }
   ],
   "source": [
    "# Load environment variables in a file called .env\n",
    "\n",
    "load_dotenv(override=True)\n",
    "api_key = os.getenv('OPENAI_API_KEY')\n",
    "\n",
    "# Check the key\n",
    "\n",
    "if not api_key:\n",
    "    print(\"No API key was found - please head over to the troubleshooting notebook in this folder to identify & fix!\")\n",
    "elif not api_key.startswith(\"sk-proj-\"):\n",
    "    print(\"An API key was found, but it doesn't start sk-proj-; please check you're using the right key - see troubleshooting notebook\")\n",
    "elif api_key.strip() != api_key:\n",
    "    print(\"An API key was found, but it looks like it might have space or tab characters at the start or end - please remove them - see troubleshooting notebook\")\n",
    "else:\n",
    "    print(\"API key found and looks good so far!\")\n",
    "\n",
    "\n",
    "openai = OpenAI()\n",
    "\n",
    "# If this doesn't work, try Kernel menu >> Restart Kernel and Clear Outputs Of All Cells, then run the cells from the top of this notebook down.\n",
    "# If it STILL doesn't work (horrors!) then please see the Troubleshooting notebook in this folder for full instructions"
   ]
  },
  {
   "cell_type": "code",
   "execution_count": 37,
   "id": "a6e118fa-7f84-4a2a-afed-9a1d098c269b",
   "metadata": {},
   "outputs": [],
   "source": [
    "\n",
    "\n",
    "\n",
    "def extract_key_areas(cv_text):\n",
    "    prompt = (\n",
    "        \"Extract the following key areas from this CV:\\n\"\n",
    "        \"- Work Experience\\n- Certifications\\n- Education\\n\"\n",
    "        \"Return each section clearly labeled.\\n\\nCV:\\n\" + cv_text\n",
    "    )\n",
    "    response = openai.chat.completions.create(\n",
    "        model=\"gpt-3.5-turbo\",\n",
    "        messages=[{\"role\": \"user\", \"content\": prompt}],\n",
    "        max_tokens=700\n",
    "    )\n",
    "    return response.choices[0].message.content"
   ]
  },
  {
   "cell_type": "code",
   "execution_count": 38,
   "id": "b60711bc-6a7d-4c61-9a4f-f2559c507ca8",
   "metadata": {},
   "outputs": [
    {
     "name": "stdout",
     "output_type": "stream",
     "text": [
      "ATS Score: 80/100\n",
      "\n",
      "Explanation: The CV aligns well with the job description for a Cloud Architect. The candidate has extensive experience in Public Cloud and Microsoft technologies, including Azure, which are directly relevant to the job. They have hands-on experience with cloud platforms, DevOps tools, data analytics, and various other technical skills mentioned in the job description. The candidate also has experience in project management, team management, and Agile practices, which are valuable skills for a Cloud Architect role. The only potential area for improvement is to highlight specific examples in the CV that demonstrate the candidate's experience with cloud architecture solutions, evaluating cloud service providers, ensuring security and scalability, and optimizing cloud-based solutions.\n"
     ]
    }
   ],
   "source": [
    "def match_cv_to_job(cv_text, job_desc):\n",
    "    prompt = (\n",
    "        \"Given the following CV and job description, analyze how well the CV matches the job. \"\n",
    "        \"Provide an ATS (Applicant Tracking System) score out of 100 and a brief explanation.\\n\\n\"\n",
    "        \"CV:\\n\" + cv_text + \"\\n\\nJob Description:\\n\" + job_desc\n",
    "    )\n",
    "    response = openai.chat.completions.create(\n",
    "        model=\"gpt-3.5-turbo\",\n",
    "        messages=[{\"role\": \"user\", \"content\": prompt}],\n",
    "        max_tokens=500\n",
    "    )\n",
    "    return response.choices[0].message.content\n",
    "\n",
    "ats_result = match_cv_to_job(cv_text, job_desc.value)\n",
    "print(ats_result)"
   ]
  },
  {
   "cell_type": "code",
   "execution_count": null,
   "id": "093a3445-0524-4a8c-a543-59eb9e2f0bda",
   "metadata": {},
   "outputs": [],
   "source": []
  }
 ],
 "metadata": {
  "kernelspec": {
   "display_name": "Python [conda env:base] *",
   "language": "python",
   "name": "conda-base-py"
  },
  "language_info": {
   "codemirror_mode": {
    "name": "ipython",
    "version": 3
   },
   "file_extension": ".py",
   "mimetype": "text/x-python",
   "name": "python",
   "nbconvert_exporter": "python",
   "pygments_lexer": "ipython3",
   "version": "3.12.7"
  }
 },
 "nbformat": 4,
 "nbformat_minor": 5
}
