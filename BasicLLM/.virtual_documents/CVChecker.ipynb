


#!pip install ipywidgets pdfplumber openai
#!jupyter nbextension enable --py widgetsnbextension
#!jupyter labextension install @jupyter-widgets/jupyterlab-manager
#!pip install --upgrade jupyterlab ipywidgets
#!pip install python-docx


# imports
import ipywidgets as widgets
from IPython.display import display
import openai
import PyPDF2
import docx
import io




# File Upload Widget

cv_upload = widgets.FileUpload(
    accept='.pdf,.docx',
    multiple=False
)
display(cv_upload)




# Job Description Input
job_desc = widgets.Textarea(
    value='',
    placeholder='Paste job description here',
    description='Job Description:',
    layout=widgets.Layout(width='80%', height='150px')
)
display(job_desc)



def extract_text_from_cv(upload_widget):
    if not upload_widget.value:
        return ""
    uploaded_file = upload_widget.value[0]  # Access the first file (tuple of dicts)
    content = uploaded_file['content']
    name = uploaded_file['name']  # Use 'name' instead of 'metadata'
    if name.endswith('.pdf'):
        reader = PyPDF2.PdfReader(io.BytesIO(content))
        text = ""
        for page in reader.pages:
            text += page.extract_text() or ""
        return text
    elif name.endswith('.docx'):
        doc = docx.Document(io.BytesIO(content))
        return "\n".join([para.text for para in doc.paragraphs])
    else:
        return ""

cv_text = extract_text_from_cv(cv_upload)
print(cv_text[:1000])  # Preview first 1000 characters


# Load environment variables in a file called .env

load_dotenv(override=True)
api_key = os.getenv('OPENAI_API_KEY')

# Check the key

if not api_key:
    print("No API key was found - please head over to the troubleshooting notebook in this folder to identify & fix!")
elif not api_key.startswith("sk-proj-"):
    print("An API key was found, but it doesn't start sk-proj-; please check you're using the right key - see troubleshooting notebook")
elif api_key.strip() != api_key:
    print("An API key was found, but it looks like it might have space or tab characters at the start or end - please remove them - see troubleshooting notebook")
else:
    print("API key found and looks good so far!")


openai = OpenAI()

# If this doesn't work, try Kernel menu >> Restart Kernel and Clear Outputs Of All Cells, then run the cells from the top of this notebook down.
# If it STILL doesn't work (horrors!) then please see the Troubleshooting notebook in this folder for full instructions





def extract_key_areas(cv_text):
    prompt = (
        "Extract the following key areas from this CV:\n"
        "- Work Experience\n- Certifications\n- Education\n"
        "Return each section clearly labeled.\n\nCV:\n" + cv_text
    )
    response = openai.chat.completions.create(
        model="gpt-3.5-turbo",
        messages=[{"role": "user", "content": prompt}],
        max_tokens=700
    )
    return response.choices[0].message.content


def match_cv_to_job(cv_text, job_desc):
    prompt = (
        "Given the following CV and job description, analyze how well the CV matches the job. "
        "Provide an ATS (Applicant Tracking System) score out of 100 and a brief explanation.\n\n"
        "CV:\n" + cv_text + "\n\nJob Description:\n" + job_desc
    )
    response = openai.chat.completions.create(
        model="gpt-3.5-turbo",
        messages=[{"role": "user", "content": prompt}],
        max_tokens=500
    )
    return response.choices[0].message.content

ats_result = match_cv_to_job(cv_text, job_desc.value)
print(ats_result)



