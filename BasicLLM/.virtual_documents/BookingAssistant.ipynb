





# imports

import os
import json
from dotenv import load_dotenv
from openai import OpenAI
import gradio as gr


# Initialization

load_dotenv(override=True)

openai_api_key = os.getenv('OPENAI_API_KEY')
if openai_api_key:
    print(f"OpenAI API Key exists and begins {openai_api_key[:8]}")
else:
    print("OpenAI API Key not set")

FlightAPI_KEY = os.getenv('FlightAPI_KEY')
HotelAPI_KEY = os.getenv('HotelAPI_KEY')
if FlightAPI_KEY and HotelAPI_KEY:
    print(f"FlightAPI_KEY and HotelAPI_KEY  exists and begins {HotelAPI_KEY[:8]} and {FlightAPI_KEY[:8]}")
else:
    print(" Key not set")
    
    
MODEL = "gpt-4o-mini"
openai = OpenAI()


system_message = "You are a helpful assistant for an Booking Travel option for customer. Your name is Smiley "
system_message += "Give short, courteous answers, no more than 1 sentence. "
system_message += "Always be accurate. If you don't know the answer, say so."



def chat(message, history):
    messages = [{"role": "system", "content": system_message}] + history + [{"role": "user", "content": message}]
    response = openai.chat.completions.create(model=MODEL, messages=messages)
    return response.choices[0].message.content

#gr.ChatInterface(fn=chat, type="messages").launch()


#API to track Flight

import requests


# Base URL for FlightAPI
BASE_URL = "https://api.flightapi.io"

# Function to track a flight
def track_flight(flight_number, airline_code, date):
    url = f"{BASE_URL}/airline/{FlightAPI_KEY}?num={flight_number}&name={airline_code}&date={date}"
    response = requests.get(url)
    return response.json()

# Example usage
#flight_data = track_flight("33", "DL", "20251024")

#print("Flight Tracking Data:", flight_data)




#Booking API to get Hotel details per country

import requests



# Base URL for Makcorps API
BASE_URL = "https://api.makcorps.com/booking"

def get_hotel_prices_country(country, hotel_id, checkin, checkout, currency="USD", adults=2, rooms=1):
    params = {
        "country": country,
        "hotelid": hotel_id,
        "checkin": checkin,
        "checkout": checkout,
        "currency": currency,
        "adults": adults,
        "rooms": rooms,
        "api_key": HotelAPI_KEY 
    }

    response = requests.get(BASE_URL, params=params)

    if response.status_code == 200:
        return response.json()
    else:
        return {"error": f"Request failed with status {response.status_code}"}

# Example usage
#hotel_data = get_hotel_prices("us", "holiday-inn-sacramento-capitol-plaza", "2025-07-05", "2025-07-11")
#print(hotel_data)





#API to get hotel details based on City

import requests

API_KEY = HotelAPI_KEY



MAPPING_API_URL = "https://api.makcorps.com/mapping"
HOTEL_API_URL = "https://api.makcorps.com/city"

def get_city_id(city_name):
    """Fetches the city ID (document_id) based on the city name."""
    params = {
        "api_key": API_KEY,
        "name": city_name
    }
    response = requests.get(MAPPING_API_URL, params=params)
    if response.status_code == 200:
        json_data = response.json()
        # Extract document_id from the response
        if isinstance(json_data, list) and json_data:
            return json_data[0].get("document_id")
        elif isinstance(json_data, dict):
            return json_data.get("document_id")
        else:
            return None
    else:
        return None

def get_hotel_price(city_name, pagination=0, currency="USD", rooms=1, adults=1, children=0, checkin="2025-07-10", checkout="2025-07-15", tax= True):
    """Fetches hotel prices in a city using its city ID."""
    city_id = get_city_id(city_name)
    if not city_id:
        return {"error": f"City '{city_name}' not found."}
   
    params = {
        "api_key": API_KEY,
        "cityid": city_id,
        "pagination": pagination,
        "cur": currency,
        "rooms": rooms,
        "adults": adults,
        "children": children,
        "checkin": checkin,
        "checkout": checkout,
        "tax": str(tax).lower()
    }

    response = requests.get(HOTEL_API_URL, params=params)
    if response.status_code == 200:
        return response.json()
    else:
        return {"error": f"Error: {response.status_code}, {response.text}"}

# Example usage
city_name = input("Enter the city name: ")
hotel_prices = get_hotel_price(city_name)
print("Hotel Prices:", hotel_prices)




import requests


# Makcorps API Key (Replace with your actual key)



def get_airport_code(api_key, city_name):
    """
    Fetches the first valid airport IATA code for a given city name using FlightAPI.
    """
    
    url = f"https://api.flightapi.io/iata/{api_key}"
    params = {
        "name": city_name,
        "type": "airport"
    }
    response = requests.get(url, params=params)
    if response.status_code == 200:
        data = response.json()
        print(data)
        # The API returns a dict with a 'data' key containing a list of airports
        airports = data.get("data", [])
        for airport in airports:
            iata = airport.get("iata", "")
            if iata:  # Only return non-empty IATA codes
                return iata
        return None
    else:
        return None

def get_oneway_trip_by_city(from_city, to_city, date, adults=1, children=0, infants=0, cabin_class="Economy", currency="USD"):
    """
    Fetches one-way trip flight data from FlightAPI using city names.
    """
   
    from_airport = get_airport_code(FlightAPI_KEY , from_city)
    to_airport = get_airport_code(FlightAPI_KEY , to_city)
    
    if not from_airport or not to_airport:
        return {"error": f"Could not find airport code for {from_city if not from_airport else to_city}"}
    url = f"https://api.flightapi.io/onewaytrip/{FlightAPI_KEY }/{from_airport}/{to_airport}/{date}/{adults}/{children}/{infants}/{cabin_class}/{currency}"
    response = requests.get(url)
    if response.status_code == 200:
        return response.json()
    else:
        return {"error": f"Error: {response.status_code}, {response.text}"}

# Example usage:
#result = get_oneway_trip_by_city( "Helsinki", "Oulu", "2025-07-20")
#print(result)


# There's a particular dictionary structure that's required to describe our function:

Flight_price_function = {
    "name": "get_oneway_trip_by_city",
    "description": "Get the price of a one-way flight ticket to the destination city. Call this whenever you need to know the ticket price, for example when a customer asks 'How much is a ticket to this city?'",
    "parameters": {
        "type": "object",
        "properties": {
            "from_city": {
                "type": "string",
                "description": "The city the customer is departing from"
            },
            "destination_city": {
                "type": "string",
                "description": "The city that the customer wants to travel to"
            },
            "date": {
                "type": "string",
                "description": "The date of travel in YYYY-MM-DD format"
            }
        },
        "required": ["from_city", "destination_city", "date"],
        "additionalProperties": False
    }
}


Hotel_price_function = {
    "name": "get_hotel_price",
    "description": "Get hotel prices in a city for given check-in and check-out dates. Call this whenever you need to know hotel prices, for example when a customer asks 'How much are hotels in this city?'",
    "parameters": {
        "type": "object",
        "properties": {
            "city_name": {
                "type": "string",
                "description": "The city where the customer wants to book a hotel"
            },
            "checkin": {
                "type": "string",
                "description": "Check-in date in YYYY-MM-DD format"
            },
            "checkout": {
                "type": "string",
                "description": "Check-out date in YYYY-MM-DD format"
            }
        },
        "required": ["city_name", "checkin", "checkout"],
        "additionalProperties": False
    }
}








# And this is included in a list of tools:
flight_tools = [{"type": "function", "function": Flight_price_function}]
hotel_tools = [{"type": "function", "function": Hotel_price_function}]
tools = flight_tools + hotel_tools



def chat(message, history):
    messages = [{"role": "system", "content": system_message}] + history + [{"role": "user", "content": message}]
    response = openai.chat.completions.create(model=MODEL, messages=messages, tools=tools)

    if response.choices[0].finish_reason=="tool_calls":
        message = response.choices[0].message
        response, city = handle_tool_call(message)
        messages.append(message)
        messages.append(response)
        response = openai.chat.completions.create(model=MODEL, messages=messages)
    
    return response.choices[0].message.content


def handle_tool_call(message):
    tool_call = message.tool_calls[0]
    arguments = json.loads(tool_call.function.arguments)
    tool_name = tool_call.function.name

    if tool_name == "get_oneway_trip_by_city":
        from_city = arguments.get('from_city')
        destination_city = arguments.get('destination_city')
        date = arguments.get('date')
        price = get_oneway_trip_by_city(
            api_key=api_key,  # Make sure FLIGHT_API_KEY is defined in your environment
            from_city=from_city,
            to_city=destination_city,
            date=date
        )
        response_content = {
            "from_city": from_city,
            "destination_city": destination_city,
            "date": date,
            "price": price
        }
        city = destination_city

    elif tool_name == "get_hotel_price":
        city_name = arguments.get('city_name')
        checkin = arguments.get('checkin')
        checkout = arguments.get('checkout')
        price = get_hotel_price(
            city_name=city_name,
            checkin=checkin,
            checkout=checkout
        )
        response_content = {
            "city_name": city_name,
            "checkin": checkin,
            "checkout": checkout,
            "price": price
        }
        city = city_name

    else:
        response_content = {"error": "Unknown tool"}
        city = None

    response = {
        "role": "tool",
        "content": json.dumps(response_content),
        "tool_call_id": tool_call.id
    }
    return response, city


gr.ChatInterface(fn=chat, type="messages").launch()



