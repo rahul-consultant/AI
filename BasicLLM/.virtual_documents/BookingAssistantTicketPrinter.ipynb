





# imports

import os
import json
from dotenv import load_dotenv
from openai import OpenAI
import gradio as gr

import base64
from io import BytesIO
from PIL import Image


# Initialization

load_dotenv(override=True)

openai_api_key = os.getenv('OPENAI_API_KEY')
if openai_api_key:
    print(f"OpenAI API Key exists and begins {openai_api_key[:8]}")
else:
    print("OpenAI API Key not set")


    
    
MODEL = "gpt-4o-mini"
openai = OpenAI()


system_message = "You are a helpful assistant for an Booking Travel option for customer. Your name is Smiley "
system_message += "Give short, courteous answers, no more than 1 sentence. "
system_message += "Always be accurate. If you don't know the answer, say so."



def chat(message, history):
    messages = [{"role": "system", "content": system_message}] + history + [{"role": "user", "content": message}]
    response = openai.chat.completions.create(model=MODEL, messages=messages)
    return response.choices[0].message.content

#gr.ChatInterface(fn=chat, type="messages").launch()


import csv
import random
from datetime import datetime, timedelta

cities = [
    "New York", "London", "Paris", "Tokyo", "Singapore", "Melbourne", "Dubai", "Frankfurt", "Toronto", "Rome",
    "Los Angeles", "Beijing", "Sydney", "Istanbul", "Bangkok", "Hong Kong", "Madrid", "Chicago", "Moscow", "Delhi"
]
airlines = [
    "British Airways", "Air France", "Japan Airlines", "Singapore Airlines", "Qantas", "Lufthansa", "Delta", "Alitalia",
    "American Airlines", "Emirates", "Turkish Airlines", "Cathay Pacific", "United Airlines", "Air China", "Air India"
]

with open("flights.csv", "w", newline='') as csvfile:
    writer = csv.writer(csvfile)
    writer.writerow(["from_city", "to_city", "airline", "flight_number", "departure", "arrival", "price", "currency"])
    for _ in range(1000):
        from_city, to_city = random.sample(cities, 2)
        airline = random.choice(airlines)
        flight_number = airline[:2].upper() + str(random.randint(100, 999))
        # Random date in the next 180 days
        dep_date = datetime.now() + timedelta(days=random.randint(1, 180))
        arr_date = dep_date + timedelta(hours=random.randint(2, 15))
        price = random.randint(80, 1500)
        writer.writerow([
            from_city, to_city, airline, flight_number,
            dep_date.strftime("%Y-%m-%d"),
            arr_date.strftime("%Y-%m-%d"),
            price, "USD"
        ])


import csv
import random

cities = [
    "New York", "London", "Paris", "Tokyo", "Singapore", "Melbourne", "Dubai", "Frankfurt", "Toronto", "Rome",
    "Los Angeles", "Beijing", "Sydney", "Istanbul", "Bangkok", "Hong Kong", "Madrid", "Chicago", "Moscow", "Delhi"
]
hotel_names = [
    "The Plaza", "Hilton", "Marriott", "Grand Hyatt", "InterContinental", "Four Seasons", "Mandarin Oriental",
    "Ritz-Carlton", "Shangri-La", "Westin", "Sheraton", "Holiday Inn", "Radisson Blu", "Novotel", "Pullman"
]

with open("hotels.csv", "w", newline='') as csvfile:
    writer = csv.writer(csvfile)
    writer.writerow(["hotel_name", "city", "star_rating", "per_night_price", "currency"])
    for _ in range(1000):
        city = random.choice(cities)
        hotel = random.choice(hotel_names) + " " + city
        star = random.randint(3, 5)
        price = random.randint(60, 700)
        writer.writerow([hotel, city, star, price, "USD"])


import csv
from datetime import datetime

def find_flights(from_city, to_city, date, csv_file="flights.csv"):
    results = []
    with open(csv_file, newline='') as csvfile:
        reader = csv.DictReader(csvfile)
        for row in reader:
            if (row['from_city'].lower() == from_city.lower() and
                row['to_city'].lower() == to_city.lower() and
                row['departure'].startswith(date)):
                results.append(row)
    return results


flights = find_flights("Delhi", "Rome", "2025-10-13")
print(flights)


import csv
from datetime import datetime

def find_hotels(city, checkin, checkout, csv_file="hotels.csv"):
    nights = (datetime.strptime(checkout, "%Y-%m-%d") - datetime.strptime(checkin, "%Y-%m-%d")).days
    results = []
    with open(csv_file, newline='') as csvfile:
        reader = csv.DictReader(csvfile)
        for row in reader:
            if row['city'].lower() == city.lower():
                total_price = nights * float(row['per_night_price'])
                results.append({
                    "hotel_name": row['hotel_name'],
                    "star_rating": row['star_rating'],
                    "per_night_price": row['per_night_price'],
                    "nights": nights,
                    "total_price": total_price,
                    "currency": row['currency']
                })
    return results




# There's a particular dictionary structure that's required to describe our function:

Flight_price_function = {
    "name": "find_flights",
    "description": "Get the price of a one-way flight ticket to the destination city. Call this whenever you need to know the ticket price, for example when a customer asks 'How much is a ticket to this city?'",
    "parameters": {
        "type": "object",
        "properties": {
            "from_city": {
                "type": "string",
                "description": "The city the customer is departing from"
            },
            "destination_city": {
                "type": "string",
                "description": "The city that the customer wants to travel to"
            },
            "date": {
                "type": "string",
                "description": "The date of travel in YYYY-MM-DD format"
            }
        },
        "required": ["from_city", "destination_city", "date"],
        "additionalProperties": False
    }
}


Hotel_price_function = {
    "name": "find_hotels",
    "description": "Get hotel prices in a city for given check-in and check-out dates. Call this whenever you need to know hotel prices, for example when a customer asks 'How much are hotels in this city?'",
    "parameters": {
        "type": "object",
        "properties": {
            "city_name": {
                "type": "string",
                "description": "The city where the customer wants to book a hotel"
            },
            "checkin": {
                "type": "string",
                "description": "Check-in date in YYYY-MM-DD format"
            },
            "checkout": {
                "type": "string",
                "description": "Check-out date in YYYY-MM-DD format"
            }
        },
        "required": ["city_name", "checkin", "checkout"],
        "additionalProperties": False
    }
}


from pydub import AudioSegment
from pydub.playback import play

def talker(message):
    response = openai.audio.speech.create(
      model="tts-1",
      voice="onyx",    # Also, try replacing onyx with alloy
      input=message
    )
    
    audio_stream = BytesIO(response.content)
    audio = AudioSegment.from_file(audio_stream, format="mp3")
    play(audio)


def BookingTicket(bookingText):
    if isinstance(bookingText, dict) and "content" in bookingText:
        bookingText = bookingText["content"]
    print(bookingText)
    image_response = openai.images.generate(
            model="dall-e-3",
            prompt=f"An image representing booking voucher based on information in {bookingText}, printing ticket with all details in {bookingText}, in a proper original ticket like structure with barcode.",
            size="1024x1024",
            n=1,
            response_format="b64_json",
        )
    image_base64 = image_response.data[0].b64_json
    image_data = base64.b64decode(image_base64)
    return Image.open(BytesIO(image_data))


# And this is included in a list of tools:
flight_tools = [{"type": "function", "function": Flight_price_function}]
hotel_tools = [{"type": "function", "function": Hotel_price_function}]
tools = flight_tools + hotel_tools






import logging

def chat(message, history):
    if not history:
        history = []
    messages = [{"role": "system", "content": system_message}] + history + [{"role": "user", "content": message}]
    response = openai.chat.completions.create(model=MODEL, messages=messages, tools=tools)
    image = None

    # Default: get assistant reply from the first response
    assistant_reply = response.choices[0].message.content

    # Log the assistant reply to the console and log file
    print("Assistant reply:", assistant_reply)
    logging.info(f"Assistant reply: {assistant_reply}")

    # Play the assistant reply as audio
    #talker(assistant_reply)

    # If tool call, handle as needed (your logic)
    if response.choices[0].finish_reason == "tool_calls":
        message_obj = response.choices[0].message
        response_obj, city = handle_tool_call(message_obj)
        messages.append(message_obj)
        messages.append(response_obj)
        response = openai.chat.completions.create(model=MODEL, messages=messages)
        assistant_reply = response.choices[0].message.content  # update reply

        # Log and play again after tool call
        print("Assistant reply (after tool call):", assistant_reply)
        logging.info(f"Assistant reply (after tool call): {assistant_reply}")
        #talker(assistant_reply)

        if isinstance(assistant_reply, str) and "flight" in assistant_reply.lower():
            image = BookingTicket(assistant_reply.strip(","))

    # Append the new user and assistant messages to history
    history = history + [
        {"role": "user", "content": message},
        {"role": "assistant", "content": assistant_reply}
    ]
    return history, image


def handle_tool_call(message):
    tool_call = message.tool_calls[0]
    arguments = json.loads(tool_call.function.arguments)
    tool_name = tool_call.function.name

    if tool_name == "find_flights":
        from_city = arguments.get('from_city')
        to_city = arguments.get('destination_city')
        date = arguments.get('date')
        flights = find_flights(
            from_city=from_city,
            to_city=to_city,
            date=date
        )
        response_content = {
            "from_city": from_city,
            "to_city": to_city,
            "date": date,
            "flights": flights
        }
        city = to_city

    elif tool_name == "find_hotels":
        city_name = arguments.get('city_name')
        checkin = arguments.get('checkin')
        checkout = arguments.get('checkout')
        hotels = find_hotels(
            city=city_name,
            checkin=checkin,
            checkout=checkout
        )
        response_content = {
            "city_name": city_name,
            "checkin": checkin,
            "checkout": checkout,
            "hotels": hotels
        }
        city = city_name

    else:
        response_content = {"error": "Unknown tool"}
        city = None

    response = {
        "role": "tool",
        "content": json.dumps(response_content),
        "tool_call_id": tool_call.id
    }
    return response, city


def chat_and_clear(message, history):
    new_history, image = chat(message, history)
    # If image is not generated, return None so Gradio clears the image_output
    return new_history, image if image is not None else None, ""

with gr.Blocks() as ui:
    with gr.Row():
        chatbot = gr.Chatbot(height=500, type="messages")
        image_output = gr.Image(height=500)
    with gr.Row():
        entry = gr.Textbox(label="Chat with our AI Assistant:")
    with gr.Row():
        clear = gr.Button("Clear")

    entry.submit(
        chat_and_clear,
        inputs=[entry, chatbot],
        outputs=[chatbot, image_output, entry]
    )

    clear.click(lambda: ([], None, ""), inputs=None, outputs=[chatbot, image_output, entry], queue=False)

ui.launch()


def generate_ticket_image(ticket_text):
    dalle_prompt = (
        f"A realistic airline ticket. Details: {ticket_text} "
        "The ticket should look official, with airline logo, passenger name area, and barcode."
    )
    response = openai.images.generate(
        model="dall-e-3",
        prompt=dalle_prompt,
        n=1,
        size="1024x512"
    )
    return response.data[0].url

# Example usage:
ticket_text = "I found a flight from Delhi to Paris on November 4, 2025: American Airlines, Flight AM397, departing at 14:44 and arriving at 17:44, for $1218 USD."
#image_url = generate_ticket_image(ticket_text)
print(image_url)



