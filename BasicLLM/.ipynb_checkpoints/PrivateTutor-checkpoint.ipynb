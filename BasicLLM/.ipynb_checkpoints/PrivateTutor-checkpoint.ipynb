{
 "cells": [
  {
   "cell_type": "markdown",
   "id": "a139f068-6141-4fe0-9c01-9bd2173f2466",
   "metadata": {},
   "source": [
    "### Private Tutor\n",
    "\n",
    "Build a private tutor chat gpt prompt where user can ask questiona and get answer"
   ]
  },
  {
   "cell_type": "code",
   "execution_count": 17,
   "id": "ce2f2403-3c40-4886-8db3-a312f45f30a9",
   "metadata": {},
   "outputs": [],
   "source": [
    "# imports\n",
    "import ipywidgets as widgets\n",
    "from dotenv import load_dotenv\n",
    "from openai import OpenAI\n",
    "from IPython.display import display\n",
    "import PyPDF2\n",
    "import docx\n",
    "import io\n",
    "import os"
   ]
  },
  {
   "cell_type": "code",
   "execution_count": 18,
   "id": "8bacc403-77aa-44f3-bd2c-3a79d2802bb3",
   "metadata": {},
   "outputs": [
    {
     "name": "stdout",
     "output_type": "stream",
     "text": [
      "API key found and looks good so far!\n"
     ]
    }
   ],
   "source": [
    "# Load environment variables in a file called .env\n",
    "\n",
    "load_dotenv(override=True)\n",
    "api_key = os.getenv('OPENAI_API_KEY')\n",
    "\n",
    "# Check the key\n",
    "\n",
    "if not api_key:\n",
    "    print(\"No API key was found - please head over to the troubleshooting notebook in this folder to identify & fix!\")\n",
    "elif not api_key.startswith(\"sk-proj-\"):\n",
    "    print(\"An API key was found, but it doesn't start sk-proj-; please check you're using the right key - see troubleshooting notebook\")\n",
    "elif api_key.strip() != api_key:\n",
    "    print(\"An API key was found, but it looks like it might have space or tab characters at the start or end - please remove them - see troubleshooting notebook\")\n",
    "else:\n",
    "    print(\"API key found and looks good so far!\")\n",
    "\n",
    "\n",
    "\n"
   ]
  },
  {
   "cell_type": "code",
   "execution_count": 3,
   "id": "1a3910b1-044c-4159-a262-62a3372542e8",
   "metadata": {},
   "outputs": [
    {
     "data": {
      "application/vnd.jupyter.widget-view+json": {
       "model_id": "af74731587cd43a3a29099cf87b5b740",
       "version_major": 2,
       "version_minor": 0
      },
      "text/plain": [
       "Textarea(value='', description='You:', layout=Layout(height='60px', width='80%'), placeholder='Ask a question.…"
      ]
     },
     "metadata": {},
     "output_type": "display_data"
    },
    {
     "data": {
      "application/vnd.jupyter.widget-view+json": {
       "model_id": "7fc8007e684d43c99b7189365832f919",
       "version_major": 2,
       "version_minor": 0
      },
      "text/plain": [
       "RadioButtons(description='Provider:', options=('OpenAI', 'Ollama'), value='OpenAI')"
      ]
     },
     "metadata": {},
     "output_type": "display_data"
    },
    {
     "data": {
      "application/vnd.jupyter.widget-view+json": {
       "model_id": "65df9b80d11c463d99122ad6ff127b76",
       "version_major": 2,
       "version_minor": 0
      },
      "text/plain": [
       "Button(description='Ask', style=ButtonStyle())"
      ]
     },
     "metadata": {},
     "output_type": "display_data"
    },
    {
     "data": {
      "application/vnd.jupyter.widget-view+json": {
       "model_id": "2b5aed93c86b46ac95cd04a02b96b038",
       "version_major": 2,
       "version_minor": 0
      },
      "text/plain": [
       "Textarea(value='', description='Answer:', disabled=True, layout=Layout(height='100px', width='80%'), placehold…"
      ]
     },
     "metadata": {},
     "output_type": "display_data"
    }
   ],
   "source": [
    "import ipywidgets as widgets\n",
    "from IPython.display import display\n",
    "import openai\n",
    "import requests\n",
    "import ollama\n",
    "\n",
    "# Pull Ollama Model\n",
    "#!ollama pull llama3.2\n",
    "\n",
    "# Widgets\n",
    "question_box = widgets.Textarea(\n",
    "    value='',\n",
    "    placeholder='Ask a question...',\n",
    "    description='You:',\n",
    "    layout=widgets.Layout(width='80%', height='60px')\n",
    ")\n",
    "provider = widgets.RadioButtons(\n",
    "    options=['OpenAI', 'Ollama'],\n",
    "    description='Provider:',\n",
    "    disabled=False\n",
    ")\n",
    "answer_box = widgets.Textarea(\n",
    "    value='',\n",
    "    placeholder='Answer will appear here...',\n",
    "    description='Answer:',\n",
    "    layout=widgets.Layout(width='80%', height='100px'),\n",
    "    disabled=True\n",
    ")\n",
    "ask_button = widgets.Button(description=\"Ask\")\n",
    "\n",
    "def on_ask_clicked(b):\n",
    "    user_question = question_box.value\n",
    "    selected = provider.value\n",
    "    answer_box.value = \"Thinking...\"\n",
    "    if user_question.strip():\n",
    "        if selected == \"OpenAI\":\n",
    "            response = openai.chat.completions.create(\n",
    "                model=\"gpt-3.5-turbo\",\n",
    "                messages=[{\"role\": \"user\", \"content\": user_question}],\n",
    "                max_tokens=200\n",
    "            )\n",
    "            answer = response.choices[0].message.content.strip()\n",
    "            answer_box.value = answer\n",
    "        else:  # Ollama\n",
    "            OllamaMODEL = \"llama3.2\"\n",
    "            messages = [{\"role\": \"user\", \"content\": user_question}]\n",
    "            try:\n",
    "                response = ollama.chat(model=OllamaMODEL, messages=messages)\n",
    "                answer = response['message']['content'].strip()\n",
    "            except Exception as e:\n",
    "                answer = f\"Ollama error: {e}\"\n",
    "            answer_box.value = answer\n",
    "\n",
    "ask_button.on_click(on_ask_clicked)\n",
    "\n",
    "display(question_box, provider, ask_button, answer_box)"
   ]
  },
  {
   "cell_type": "code",
   "execution_count": null,
   "id": "dcf8aeff-d2c2-4adb-8c1e-fb74ace39074",
   "metadata": {},
   "outputs": [],
   "source": []
  }
 ],
 "metadata": {
  "kernelspec": {
   "display_name": "Python [conda env:llms]",
   "language": "python",
   "name": "conda-env-llms-py"
  },
  "language_info": {
   "codemirror_mode": {
    "name": "ipython",
    "version": 3
   },
   "file_extension": ".py",
   "mimetype": "text/x-python",
   "name": "python",
   "nbconvert_exporter": "python",
   "pygments_lexer": "ipython3",
   "version": "3.11.12"
  }
 },
 "nbformat": 4,
 "nbformat_minor": 5
}
