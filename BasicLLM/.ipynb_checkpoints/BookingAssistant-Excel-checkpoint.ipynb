{
 "cells": [
  {
   "cell_type": "markdown",
   "id": "63146c7c-8566-4bb0-88d7-221157a884f1",
   "metadata": {},
   "source": [
    "### Booking assistant\n",
    "\n",
    "This project will use OpenAI, Cloude, Python and open source API."
   ]
  },
  {
   "attachments": {},
   "cell_type": "markdown",
   "id": "6a281eb5-e5cd-4e86-a139-13e96f924d6a",
   "metadata": {},
   "source": [
    "<!DOCTYPE html>\n",
    "<html lang=\"en\">\n",
    "<head>\n",
    "    <meta charset=\"UTF-8\">\n",
    "    <meta name=\"viewport\" content=\"width=device-width, initial-scale=1.0\">\n",
    "    <title>AI-Powered Booking Assistant</title>\n",
    "    <style>\n",
    "        body {\n",
    "            font-family: \"Arial\", sans-serif;\n",
    "            background-color: #f4f4f4;\n",
    "            text-align: center;\n",
    "            padding: 20px;\n",
    "        }\n",
    "        table {\n",
    "            width: 80%;\n",
    "            margin: auto;\n",
    "            border-collapse: collapse;\n",
    "            background: #fff;\n",
    "            box-shadow: 0px 0px 10px rgba(0, 0, 0, 0.1);\n",
    "        }\n",
    "        th, td {\n",
    "            padding: 20px;\n",
    "            text-align: left;\n",
    "            font-size: 18px;\n",
    "        }\n",
    "        th {\n",
    "            background: #2c3e50;\n",
    "            color: white;\n",
    "        }\n",
    "        td {\n",
    "            border-bottom: 1px solid #ddd;\n",
    "        }\n",
    "        img {\n",
    "            display: block;\n",
    "            margin: auto;\n",
    "            border-radius: 10px;\n",
    "        }\n",
    "    </style>\n",
    "</head>\n",
    "<body>\n",
    "    <table>\n",
    "        <tr>\n",
    "            <th></th>\n",
    "            <th></th>\n",
    "        </tr>\n",
    "        <tr>\n",
    "            <td>\n",
    "                This project integrates multiple AI technologies, including OpenAI, Claude, and various open-source APIs, to create an intelligent booking assistant.\n",
    "                The assistant automates scheduling, manages reservations, and provides personalized recommendations based on user preferences. Leveraging natural language processing (NLP)\n",
    "                and machine learning, it ensures seamless interactions and efficient booking experiences across multiple platforms.\n",
    "            </td>\n",
    "            <td>\n",
    "                <img src=\"AIAgent.jpg\" width=\"200\">\n",
    "            </td>\n",
    "        </tr>\n",
    "    </table>\n",
    "</body>\n",
    "</html>\n",
    "\n",
    "\n"
   ]
  },
  {
   "cell_type": "code",
   "execution_count": 2,
   "id": "cf16b92f-6e47-416a-8197-69fd0b9b54fc",
   "metadata": {},
   "outputs": [],
   "source": [
    "# imports\n",
    "\n",
    "import os\n",
    "import json\n",
    "from dotenv import load_dotenv\n",
    "from openai import OpenAI\n",
    "import gradio as gr"
   ]
  },
  {
   "cell_type": "code",
   "execution_count": 3,
   "id": "f251a7b3-095b-4ec3-914d-1ad43958df12",
   "metadata": {},
   "outputs": [
    {
     "name": "stdout",
     "output_type": "stream",
     "text": [
      "OpenAI API Key exists and begins sk-proj-\n",
      "FlightAPI_KEY and HotelAPI_KEY  exists and begins 683eb7a7 and 683eb59b\n"
     ]
    }
   ],
   "source": [
    "# Initialization\n",
    "\n",
    "load_dotenv(override=True)\n",
    "\n",
    "openai_api_key = os.getenv('OPENAI_API_KEY')\n",
    "if openai_api_key:\n",
    "    print(f\"OpenAI API Key exists and begins {openai_api_key[:8]}\")\n",
    "else:\n",
    "    print(\"OpenAI API Key not set\")\n",
    "\n",
    "FlightAPI_KEY = os.getenv('FlightAPI_KEY')\n",
    "HotelAPI_KEY = os.getenv('HotelAPI_KEY')\n",
    "if FlightAPI_KEY and HotelAPI_KEY:\n",
    "    print(f\"FlightAPI_KEY and HotelAPI_KEY  exists and begins {HotelAPI_KEY[:8]} and {FlightAPI_KEY[:8]}\")\n",
    "else:\n",
    "    print(\" Key not set\")\n",
    "    \n",
    "    \n",
    "MODEL = \"gpt-4o-mini\"\n",
    "openai = OpenAI()"
   ]
  },
  {
   "cell_type": "code",
   "execution_count": 4,
   "id": "eb53e1cb-8c55-4fe8-a208-90a10b6aa05f",
   "metadata": {},
   "outputs": [],
   "source": [
    "system_message = \"You are a helpful assistant for an Booking Travel option for customer. Your name is Smiley \"\n",
    "system_message += \"Give short, courteous answers, no more than 1 sentence. \"\n",
    "system_message += \"Always be accurate. If you don't know the answer, say so.\"\n"
   ]
  },
  {
   "cell_type": "code",
   "execution_count": 55,
   "id": "4681e9d1-dcc7-46ea-a9d1-c37072b1ac36",
   "metadata": {},
   "outputs": [
    {
     "name": "stdout",
     "output_type": "stream",
     "text": [
      "* Running on local URL:  http://127.0.0.1:7866\n",
      "* To create a public link, set `share=True` in `launch()`.\n"
     ]
    },
    {
     "data": {
      "text/html": [
       "<div><iframe src=\"http://127.0.0.1:7866/\" width=\"100%\" height=\"500\" allow=\"autoplay; camera; microphone; clipboard-read; clipboard-write;\" frameborder=\"0\" allowfullscreen></iframe></div>"
      ],
      "text/plain": [
       "<IPython.core.display.HTML object>"
      ]
     },
     "metadata": {},
     "output_type": "display_data"
    },
    {
     "data": {
      "text/plain": []
     },
     "execution_count": 55,
     "metadata": {},
     "output_type": "execute_result"
    }
   ],
   "source": [
    "def chat(message, history):\n",
    "    messages = [{\"role\": \"system\", \"content\": system_message}] + history + [{\"role\": \"user\", \"content\": message}]\n",
    "    response = openai.chat.completions.create(model=MODEL, messages=messages)\n",
    "    return response.choices[0].message.content\n",
    "\n",
    "#gr.ChatInterface(fn=chat, type=\"messages\").launch()"
   ]
  },
  {
   "cell_type": "code",
   "execution_count": 5,
   "id": "77992077-bb6e-45a9-b6b7-df026642dcce",
   "metadata": {},
   "outputs": [],
   "source": [
    "#API to track Flight\n",
    "\n",
    "import requests\n",
    "\n",
    "\n",
    "# Base URL for FlightAPI\n",
    "BASE_URL = \"https://api.flightapi.io\"\n",
    "\n",
    "# Function to track a flight\n",
    "def track_flight(flight_number, airline_code, date):\n",
    "    url = f\"{BASE_URL}/airline/{FlightAPI_KEY}?num={flight_number}&name={airline_code}&date={date}\"\n",
    "    response = requests.get(url)\n",
    "    return response.json()\n",
    "\n",
    "# Example usage\n",
    "#flight_data = track_flight(\"33\", \"DL\", \"20251024\")\n",
    "\n",
    "#print(\"Flight Tracking Data:\", flight_data)\n",
    "\n"
   ]
  },
  {
   "cell_type": "code",
   "execution_count": 6,
   "id": "a196a92b-1b7d-4607-8ef8-179c5d8716fc",
   "metadata": {
    "scrolled": true
   },
   "outputs": [],
   "source": [
    "#Booking API to get Hotel details per country\n",
    "\n",
    "import requests\n",
    "\n",
    "\n",
    "\n",
    "# Base URL for Makcorps API\n",
    "BASE_URL = \"https://api.makcorps.com/booking\"\n",
    "\n",
    "def get_hotel_prices_country(country, hotel_id, checkin, checkout, currency=\"USD\", adults=2, rooms=1):\n",
    "    params = {\n",
    "        \"country\": country,\n",
    "        \"hotelid\": hotel_id,\n",
    "        \"checkin\": checkin,\n",
    "        \"checkout\": checkout,\n",
    "        \"currency\": currency,\n",
    "        \"adults\": adults,\n",
    "        \"rooms\": rooms,\n",
    "        \"api_key\": HotelAPI_KEY \n",
    "    }\n",
    "\n",
    "    response = requests.get(BASE_URL, params=params)\n",
    "\n",
    "    if response.status_code == 200:\n",
    "        return response.json()\n",
    "    else:\n",
    "        return {\"error\": f\"Request failed with status {response.status_code}\"}\n",
    "\n",
    "# Example usage\n",
    "#hotel_data = get_hotel_prices(\"us\", \"holiday-inn-sacramento-capitol-plaza\", \"2025-07-05\", \"2025-07-11\")\n",
    "#print(hotel_data)\n",
    "\n",
    "\n"
   ]
  },
  {
   "cell_type": "code",
   "execution_count": 21,
   "id": "99171527-d586-4a64-acb8-26235fd83c7a",
   "metadata": {
    "scrolled": true
   },
   "outputs": [
    {
     "name": "stdin",
     "output_type": "stream",
     "text": [
      "Enter the city name:  London\n"
     ]
    },
    {
     "name": "stdout",
     "output_type": "stream",
     "text": [
      "Hotel Prices: {'error': \"City 'London' not found.\"}\n"
     ]
    },
    {
     "name": "stdout",
     "output_type": "stream",
     "text": [
      "Hotel Prices: [{'geocode': {'latitude': 28.631662, 'longitude': 77.227234}, 'telephone': '+91 11 4444 7777', 'name': 'The Lalit New Delhi', 'hotelId': 299120, 'reviews': {'rating': 4.6, 'count': 12452}, 'vendor1': None, 'price1': None}, {'geocode': {'latitude': 28.550695, 'longitude': 77.2504}, 'telephone': '+91 11 4122 3344', 'name': 'Eros Hotel', 'hotelId': 299121, 'reviews': {'rating': 4.7, 'count': 5229}, 'vendor1': None, 'price1': None}, {'geocode': {'latitude': 28.551432, 'longitude': 77.12313}, 'telephone': '+91 11 4302 0202', 'name': 'Ibis New Delhi Aerocity', 'hotelId': 2590189, 'reviews': {'rating': 4.3, 'count': 5037}, 'vendor1': None, 'price1': None}, {'geocode': {'latitude': 28.621464, 'longitude': 77.21687}, 'telephone': '+91 11 4355 5555', 'name': 'Hotel The Royal Plaza', 'hotelId': 1200682, 'reviews': {'rating': 4, 'count': 5067}, 'vendor1': None, 'price1': None}, {'geocode': {'latitude': 28.546368, 'longitude': 77.123985}, 'telephone': '+91 93554 44526', 'name': 'Foxoso Delhi Airport New Delhi', 'hotelId': 23537087, 'reviews': {'rating': 4.1, 'count': 114}, 'vendor1': None, 'price1': None}, {'geocode': {'latitude': 28.521894, 'longitude': 77.09978}, 'telephone': '+91 98738 89160', 'name': 'Stellar Resorts', 'hotelId': 25794670, 'reviews': {'rating': 4.5, 'count': 22}, 'vendor1': None, 'price1': None}, {'geocode': {'latitude': 28.551838, 'longitude': 77.1211}, 'telephone': '+91 11 4523 2323', 'name': 'Red Fox By Lemon Tree Hotels Delhi Airport', 'hotelId': 3507485, 'reviews': {'rating': 4.6, 'count': 4862}, 'vendor1': None, 'price1': None}, {'geocode': {'latitude': 28.641083, 'longitude': 77.21398}, 'telephone': '+91 11 4102 7888', 'name': 'Hotel Hari Piorko', 'hotelId': 1415547, 'reviews': {'rating': 4.2, 'count': 2480}, 'vendor1': None, 'price1': None}, {'geocode': {'latitude': 28.552155, 'longitude': 77.12075}, 'telephone': '+91 11 4423 2323', 'name': 'Lemon Tree Premier, Delhi Airport', 'hotelId': 3583700, 'reviews': {'rating': 4.6, 'count': 5492}, 'vendor1': None, 'price1': None}, {'geocode': {'latitude': 28.543837, 'longitude': 77.120155}, 'telephone': '+91 11 4250 0500', 'name': 'Radisson Blu Plaza Hotel, Delhi Airport', 'hotelId': 306957, 'reviews': {'rating': 4.7, 'count': 10240}, 'vendor1': None, 'price1': None}, {'geocode': {'latitude': 28.662079, 'longitude': 77.30211}, 'telephone': '+91 11 7172 1234', 'name': 'The Leela Ambience Convention Hotel Delhi', 'hotelId': 3510307, 'reviews': {'rating': 4.8, 'count': 5241}, 'vendor1': None, 'price1': None}, {'geocode': {'latitude': 28.645788, 'longitude': 77.215836}, 'telephone': '+91 98185 44466', 'name': 'Hotel Ajanta', 'hotelId': 306951, 'reviews': {'rating': 3.8, 'count': 2435}, 'vendor1': None, 'price1': None}, {'geocode': {'latitude': 28.644592, 'longitude': 77.21787}, 'telephone': '+91 99539 92206', 'name': 'Hotel Parkway Deluxe', 'hotelId': 1106551, 'reviews': {'rating': 4, 'count': 167}, 'vendor1': None, 'price1': None}, {'geocode': {'latitude': 28.628902, 'longitude': 77.21614}, 'telephone': '+91 11 2374 3000', 'name': 'The Park New Delhi', 'hotelId': 302332, 'reviews': {'rating': 4.2, 'count': 6273}, 'vendor1': None, 'price1': None}, {'geocode': {'latitude': 28.525515, 'longitude': 77.09864}, 'telephone': '+91 11 4770 7070', 'name': 'The Umrao', 'hotelId': 3488035, 'reviews': {'rating': 4.5, 'count': 1624}, 'vendor1': None, 'price1': None}, {'geocode': {'latitude': 28.579466, 'longitude': 77.05604}, 'telephone': '+91 11 4222 9222', 'name': 'Welcomhotel By ITC Hotels, Dwarka', 'hotelId': 2290968, 'reviews': {'rating': 4.6, 'count': 6403}, 'vendor1': None, 'price1': None}, {'geocode': {'latitude': 28.551256, 'longitude': 77.120705}, 'telephone': '+91 11 7155 8800', 'name': 'Roseate House', 'hotelId': 11561000, 'reviews': {'rating': 4.8, 'count': 4680}, 'vendor1': None, 'price1': None}, {'geocode': {'latitude': 28.553879, 'longitude': 77.123634}, 'telephone': '+91 11 4608 0808', 'name': 'Pullman New Delhi Aerocity', 'hotelId': 7767213, 'reviews': {'rating': 4.8, 'count': 6069}, 'vendor1': None, 'price1': None}, {'geocode': {'latitude': 28.579899, 'longitude': 77.18975}, 'telephone': '+91 11 3933 1234', 'name': 'The Leela Palace New Delhi', 'hotelId': 1759051, 'reviews': {'rating': 4.8, 'count': 6172}, 'vendor1': None, 'price1': None}, {'geocode': {'latitude': 28.539892, 'longitude': 77.11728}, 'telephone': '+91 78275 22240', 'name': 'Hotel Aerocity Purple Orchid', 'hotelId': 19058685, 'reviews': {'rating': 4.6, 'count': 29}, 'vendor1': None, 'price1': None}, {'geocode': {'latitude': 28.705479, 'longitude': 77.14338}, 'telephone': '+91 11 4231 0101', 'name': 'Hotel City Park', 'hotelId': 549544, 'reviews': {'rating': 4, 'count': 409}, 'vendor1': None, 'price1': None}, {'geocode': {'latitude': 28.552885, 'longitude': 77.121315}, 'telephone': '+91 11 4521 2121', 'name': 'JW Marriott Hotel New Delhi Aerocity', 'hotelId': 4451234, 'reviews': {'rating': 4.7, 'count': 6057}, 'vendor1': None, 'price1': None}, {'geocode': {'latitude': 28.595219, 'longitude': 77.17081}, 'telephone': '+91 11 2611 0202', 'name': 'Taj Palace', 'hotelId': 302181, 'reviews': {'rating': 4.6, 'count': 8562}, 'vendor1': None, 'price1': None}, {'geocode': {'latitude': 28.629772, 'longitude': 77.08079}, 'telephone': '+91 11 4766 8888', 'name': 'IIDL Suites New Delhi', 'hotelId': 1958448, 'reviews': {'rating': 3.8, 'count': 456}, 'vendor1': None, 'price1': None}, {'geocode': {'latitude': 28.550093, 'longitude': 77.1228}, 'telephone': '+91 11 4222 2000', 'name': 'Holiday Inn New Delhi Aerocity By IHG', 'hotelId': 4884442, 'reviews': {'rating': 4.6, 'count': 5351}, 'vendor1': None, 'price1': None}, {'geocode': {'latitude': 28.547709, 'longitude': 77.20155}, 'telephone': '+91 11 4165 1357', 'name': 'Haveli Hauz Khas', 'hotelId': 646091, 'reviews': {'rating': 4.8, 'count': 504}, 'vendor1': None, 'price1': None}, {'geocode': {'latitude': 28.625105, 'longitude': 77.218155}, 'telephone': '+91 11 4150 1234', 'name': 'The Imperial New Delhi', 'hotelId': 301472, 'reviews': {'rating': 4.6, 'count': 4662}, 'vendor1': None, 'price1': None}, {'geocode': {'latitude': 28.650826, 'longitude': 77.19756}, 'telephone': '+91 78277 00600', 'name': 'East Park Inn', 'hotelId': 27136094, 'reviews': {'rating': 4.7, 'count': 21}, 'vendor1': None, 'price1': None}, {'geocode': {'latitude': 28.591679, 'longitude': 77.23813}, 'telephone': '+91 11 4363 3333', 'name': 'The Lodhi', 'hotelId': 1383462, 'reviews': {'rating': 4.8, 'count': 2355}, 'vendor1': None, 'price1': None}, {'geocode': {'latitude': 28.628881, 'longitude': 77.07851}, 'telephone': '+91 11 4612 1234', 'name': 'Hyatt Centric Janakpuri New Delhi', 'hotelId': 1533565, 'reviews': {'rating': 3.8, 'count': 704}, 'vendor1': None, 'price1': None}, [{'totalHotelCount': 7982, 'totalpageCount': 266, 'currentPageHotelsCount': 30, 'currentPageNumber': 1}]]\n"
     ]
    }
   ],
   "source": [
    "#API to get hotel details based on City\n",
    "\n",
    "import requests\n",
    "\n",
    "API_KEY = HotelAPI_KEY\n",
    "\n",
    "\n",
    "\n",
    "MAPPING_API_URL = \"https://api.makcorps.com/mapping\"\n",
    "HOTEL_API_URL = \"https://api.makcorps.com/city\"\n",
    "\n",
    "def get_city_id(city_name):\n",
    "    \"\"\"Fetches the city ID (document_id) based on the city name.\"\"\"\n",
    "    params = {\n",
    "        \"api_key\": API_KEY,\n",
    "        \"name\": city_name\n",
    "    }\n",
    "    response = requests.get(MAPPING_API_URL, params=params)\n",
    "    if response.status_code == 200:\n",
    "        json_data = response.json()\n",
    "        # Extract document_id from the response\n",
    "        if isinstance(json_data, list) and json_data:\n",
    "            return json_data[0].get(\"document_id\")\n",
    "        elif isinstance(json_data, dict):\n",
    "            return json_data.get(\"document_id\")\n",
    "        else:\n",
    "            return None\n",
    "    else:\n",
    "        return None\n",
    "\n",
    "def get_hotel_price(city_name, pagination=0, currency=\"USD\", rooms=1, adults=1, children=0, checkin=\"2025-07-10\", checkout=\"2025-07-15\", tax= True):\n",
    "    \"\"\"Fetches hotel prices in a city using its city ID.\"\"\"\n",
    "    city_id = get_city_id(city_name)\n",
    "    if not city_id:\n",
    "        return {\"error\": f\"City '{city_name}' not found.\"}\n",
    "   \n",
    "    params = {\n",
    "        \"api_key\": API_KEY,\n",
    "        \"cityid\": city_id,\n",
    "        \"pagination\": pagination,\n",
    "        \"cur\": currency,\n",
    "        \"rooms\": rooms,\n",
    "        \"adults\": adults,\n",
    "        \"children\": children,\n",
    "        \"checkin\": checkin,\n",
    "        \"checkout\": checkout,\n",
    "        \"tax\": str(tax).lower()\n",
    "    }\n",
    "\n",
    "    response = requests.get(HOTEL_API_URL, params=params)\n",
    "    if response.status_code == 200:\n",
    "        return response.json()\n",
    "    else:\n",
    "        return {\"error\": f\"Error: {response.status_code}, {response.text}\"}\n",
    "\n",
    "# Example usage\n",
    "city_name = input(\"Enter the city name: \")\n",
    "hotel_prices = get_hotel_price(city_name)\n",
    "print(\"Hotel Prices:\", hotel_prices)"
   ]
  },
  {
   "cell_type": "code",
   "execution_count": 14,
   "id": "f51d9fe9-263e-4386-8eea-bd32f0f728af",
   "metadata": {
    "scrolled": true
   },
   "outputs": [],
   "source": [
    "\n",
    "\n",
    "import requests\n",
    "\n",
    "\n",
    "# Makcorps API Key (Replace with your actual key)\n",
    "\n",
    "\n",
    "\n",
    "def get_airport_code(api_key, city_name):\n",
    "    \"\"\"\n",
    "    Fetches the first valid airport IATA code for a given city name using FlightAPI.\n",
    "    \"\"\"\n",
    "    \n",
    "    url = f\"https://api.flightapi.io/iata/{api_key}\"\n",
    "    params = {\n",
    "        \"name\": city_name,\n",
    "        \"type\": \"airport\"\n",
    "    }\n",
    "    response = requests.get(url, params=params)\n",
    "    if response.status_code == 200:\n",
    "        data = response.json()\n",
    "        print(data)\n",
    "        # The API returns a dict with a 'data' key containing a list of airports\n",
    "        airports = data.get(\"data\", [])\n",
    "        for airport in airports:\n",
    "            iata = airport.get(\"iata\", \"\")\n",
    "            if iata:  # Only return non-empty IATA codes\n",
    "                return iata\n",
    "        return None\n",
    "    else:\n",
    "        return None\n",
    "\n",
    "def get_oneway_trip_by_city(from_city, to_city, date, adults=1, children=0, infants=0, cabin_class=\"Economy\", currency=\"USD\"):\n",
    "    \"\"\"\n",
    "    Fetches one-way trip flight data from FlightAPI using city names.\n",
    "    \"\"\"\n",
    "   \n",
    "    from_airport = get_airport_code(FlightAPI_KEY , from_city)\n",
    "    to_airport = get_airport_code(FlightAPI_KEY , to_city)\n",
    "    \n",
    "    if not from_airport or not to_airport:\n",
    "        return {\"error\": f\"Could not find airport code for {from_city if not from_airport else to_city}\"}\n",
    "    url = f\"https://api.flightapi.io/onewaytrip/{FlightAPI_KEY }/{from_airport}/{to_airport}/{date}/{adults}/{children}/{infants}/{cabin_class}/{currency}\"\n",
    "    response = requests.get(url)\n",
    "    if response.status_code == 200:\n",
    "        return response.json()\n",
    "    else:\n",
    "        return {\"error\": f\"Error: {response.status_code}, {response.text}\"}\n",
    "\n",
    "# Example usage:\n",
    "#result = get_oneway_trip_by_city( \"Helsinki\", \"Oulu\", \"2025-07-20\")\n",
    "#print(result)"
   ]
  },
  {
   "cell_type": "code",
   "execution_count": 15,
   "id": "3a25c599-87e0-4dc9-ae3c-cd9bb1820a84",
   "metadata": {},
   "outputs": [],
   "source": [
    "# There's a particular dictionary structure that's required to describe our function:\n",
    "\n",
    "Flight_price_function = {\n",
    "    \"name\": \"get_oneway_trip_by_city\",\n",
    "    \"description\": \"Get the price of a one-way flight ticket to the destination city. Call this whenever you need to know the ticket price, for example when a customer asks 'How much is a ticket to this city?'\",\n",
    "    \"parameters\": {\n",
    "        \"type\": \"object\",\n",
    "        \"properties\": {\n",
    "            \"from_city\": {\n",
    "                \"type\": \"string\",\n",
    "                \"description\": \"The city the customer is departing from\"\n",
    "            },\n",
    "            \"destination_city\": {\n",
    "                \"type\": \"string\",\n",
    "                \"description\": \"The city that the customer wants to travel to\"\n",
    "            },\n",
    "            \"date\": {\n",
    "                \"type\": \"string\",\n",
    "                \"description\": \"The date of travel in YYYY-MM-DD format\"\n",
    "            }\n",
    "        },\n",
    "        \"required\": [\"from_city\", \"destination_city\", \"date\"],\n",
    "        \"additionalProperties\": False\n",
    "    }\n",
    "}"
   ]
  },
  {
   "cell_type": "code",
   "execution_count": 16,
   "id": "870ac8ee-dd45-45e4-a902-778e29503dfb",
   "metadata": {},
   "outputs": [],
   "source": [
    "Hotel_price_function = {\n",
    "    \"name\": \"get_hotel_price\",\n",
    "    \"description\": \"Get hotel prices in a city for given check-in and check-out dates. Call this whenever you need to know hotel prices, for example when a customer asks 'How much are hotels in this city?'\",\n",
    "    \"parameters\": {\n",
    "        \"type\": \"object\",\n",
    "        \"properties\": {\n",
    "            \"city_name\": {\n",
    "                \"type\": \"string\",\n",
    "                \"description\": \"The city where the customer wants to book a hotel\"\n",
    "            },\n",
    "            \"checkin\": {\n",
    "                \"type\": \"string\",\n",
    "                \"description\": \"Check-in date in YYYY-MM-DD format\"\n",
    "            },\n",
    "            \"checkout\": {\n",
    "                \"type\": \"string\",\n",
    "                \"description\": \"Check-out date in YYYY-MM-DD format\"\n",
    "            }\n",
    "        },\n",
    "        \"required\": [\"city_name\", \"checkin\", \"checkout\"],\n",
    "        \"additionalProperties\": False\n",
    "    }\n",
    "}"
   ]
  },
  {
   "cell_type": "code",
   "execution_count": null,
   "id": "591ef1dc-5667-4597-a74e-7111dc8dea57",
   "metadata": {},
   "outputs": [],
   "source": []
  },
  {
   "cell_type": "code",
   "execution_count": null,
   "id": "ee627dba-b7e1-43ce-84d8-b9f2473f4c2c",
   "metadata": {},
   "outputs": [],
   "source": []
  },
  {
   "cell_type": "code",
   "execution_count": 17,
   "id": "26ac2259-c963-4d04-bac8-0c016597bfef",
   "metadata": {},
   "outputs": [],
   "source": [
    "# And this is included in a list of tools:\n",
    "flight_tools = [{\"type\": \"function\", \"function\": Flight_price_function}]\n",
    "hotel_tools = [{\"type\": \"function\", \"function\": Hotel_price_function}]\n",
    "tools = flight_tools + hotel_tools\n"
   ]
  },
  {
   "cell_type": "code",
   "execution_count": 18,
   "id": "9674cc3f-4a72-4534-9bfe-7c407522bbcf",
   "metadata": {},
   "outputs": [],
   "source": [
    "def chat(message, history):\n",
    "    messages = [{\"role\": \"system\", \"content\": system_message}] + history + [{\"role\": \"user\", \"content\": message}]\n",
    "    response = openai.chat.completions.create(model=MODEL, messages=messages, tools=tools)\n",
    "\n",
    "    if response.choices[0].finish_reason==\"tool_calls\":\n",
    "        message = response.choices[0].message\n",
    "        response, city = handle_tool_call(message)\n",
    "        messages.append(message)\n",
    "        messages.append(response)\n",
    "        response = openai.chat.completions.create(model=MODEL, messages=messages)\n",
    "    \n",
    "    return response.choices[0].message.content"
   ]
  },
  {
   "cell_type": "code",
   "execution_count": 19,
   "id": "5d995148-b9ec-4c16-951a-b15827ca9ce0",
   "metadata": {},
   "outputs": [],
   "source": [
    "def handle_tool_call(message):\n",
    "    tool_call = message.tool_calls[0]\n",
    "    arguments = json.loads(tool_call.function.arguments)\n",
    "    tool_name = tool_call.function.name\n",
    "\n",
    "    if tool_name == \"get_oneway_trip_by_city\":\n",
    "        from_city = arguments.get('from_city')\n",
    "        destination_city = arguments.get('destination_city')\n",
    "        date = arguments.get('date')\n",
    "        price = get_oneway_trip_by_city(\n",
    "            api_key=api_key,  # Make sure FLIGHT_API_KEY is defined in your environment\n",
    "            from_city=from_city,\n",
    "            to_city=destination_city,\n",
    "            date=date\n",
    "        )\n",
    "        response_content = {\n",
    "            \"from_city\": from_city,\n",
    "            \"destination_city\": destination_city,\n",
    "            \"date\": date,\n",
    "            \"price\": price\n",
    "        }\n",
    "        city = destination_city\n",
    "\n",
    "    elif tool_name == \"get_hotel_price\":\n",
    "        city_name = arguments.get('city_name')\n",
    "        checkin = arguments.get('checkin')\n",
    "        checkout = arguments.get('checkout')\n",
    "        price = get_hotel_price(\n",
    "            city_name=city_name,\n",
    "            checkin=checkin,\n",
    "            checkout=checkout\n",
    "        )\n",
    "        response_content = {\n",
    "            \"city_name\": city_name,\n",
    "            \"checkin\": checkin,\n",
    "            \"checkout\": checkout,\n",
    "            \"price\": price\n",
    "        }\n",
    "        city = city_name\n",
    "\n",
    "    else:\n",
    "        response_content = {\"error\": \"Unknown tool\"}\n",
    "        city = None\n",
    "\n",
    "    response = {\n",
    "        \"role\": \"tool\",\n",
    "        \"content\": json.dumps(response_content),\n",
    "        \"tool_call_id\": tool_call.id\n",
    "    }\n",
    "    return response, city"
   ]
  },
  {
   "cell_type": "code",
   "execution_count": 20,
   "id": "7e29c7b4-7d2f-446b-a86b-4ca5d30e6da8",
   "metadata": {},
   "outputs": [
    {
     "name": "stdout",
     "output_type": "stream",
     "text": [
      "* Running on local URL:  http://127.0.0.1:7860\n",
      "* To create a public link, set `share=True` in `launch()`.\n"
     ]
    },
    {
     "data": {
      "text/html": [
       "<div><iframe src=\"http://127.0.0.1:7860/\" width=\"100%\" height=\"500\" allow=\"autoplay; camera; microphone; clipboard-read; clipboard-write;\" frameborder=\"0\" allowfullscreen></iframe></div>"
      ],
      "text/plain": [
       "<IPython.core.display.HTML object>"
      ]
     },
     "metadata": {},
     "output_type": "display_data"
    },
    {
     "data": {
      "text/plain": []
     },
     "execution_count": 20,
     "metadata": {},
     "output_type": "execute_result"
    }
   ],
   "source": [
    "gr.ChatInterface(fn=chat, type=\"messages\").launch()"
   ]
  },
  {
   "cell_type": "code",
   "execution_count": null,
   "id": "daf854e5-de68-422a-8bfc-2f373a91f68c",
   "metadata": {},
   "outputs": [],
   "source": []
  }
 ],
 "metadata": {
  "kernelspec": {
   "display_name": "Python [conda env:base] *",
   "language": "python",
   "name": "conda-base-py"
  },
  "language_info": {
   "codemirror_mode": {
    "name": "ipython",
    "version": 3
   },
   "file_extension": ".py",
   "mimetype": "text/x-python",
   "name": "python",
   "nbconvert_exporter": "python",
   "pygments_lexer": "ipython3",
   "version": "3.12.7"
  }
 },
 "nbformat": 4,
 "nbformat_minor": 5
}
