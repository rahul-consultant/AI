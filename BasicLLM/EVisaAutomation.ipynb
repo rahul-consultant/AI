{
 "cells": [
  {
   "cell_type": "markdown",
   "id": "0c1dfe8f-da0f-4347-a7c2-e8101509f796",
   "metadata": {},
   "source": [
    "## This is automated visa application processing system using AI.\n",
    "\n",
    "##### This project will use multi AI model which will assist visually impaired person in filling Visa. Capture his image and then transform into EVisa\n"
   ]
  },
  {
   "cell_type": "code",
   "execution_count": 54,
   "id": "401befbe-82d0-4f3b-82ab-c1f8eb6051c3",
   "metadata": {},
   "outputs": [],
   "source": [
    "import os\n",
    "import json\n",
    "import base64\n",
    "from io import BytesIO\n",
    "from PIL import Image\n",
    "from IPython.display import Audio, display\n",
    "import gradio as gr\n",
    "from dotenv import load_dotenv\n",
    "from openai import OpenAI\n",
    "\n"
   ]
  },
  {
   "cell_type": "code",
   "execution_count": 55,
   "id": "55c8ccb6-d413-4855-beda-c5ef0bf318da",
   "metadata": {},
   "outputs": [
    {
     "name": "stdout",
     "output_type": "stream",
     "text": [
      "OpenAI API Key exists and begins sk-proj-\n"
     ]
    }
   ],
   "source": [
    "# Initialization\n",
    "\n",
    "load_dotenv(override=True)\n",
    "\n",
    "openai_api_key = os.getenv('OPENAI_API_KEY')\n",
    "if openai_api_key:\n",
    "    print(f\"OpenAI API Key exists and begins {openai_api_key[:8]}\")\n",
    "else:\n",
    "    print(\"OpenAI API Key not set\")\n",
    "\n",
    "\n",
    "    \n",
    "    \n",
    "MODEL = \"gpt-4o-mini\"\n",
    "openai = OpenAI()"
   ]
  },
  {
   "cell_type": "code",
   "execution_count": 12,
   "id": "18a5e905-fdf7-45cc-a8b0-1b83ccd472c3",
   "metadata": {},
   "outputs": [],
   "source": [
    "#\n",
    "\n",
    "from pydub import AudioSegment\n",
    "from pydub.playback import play\n",
    "\n",
    "def talker(message):\n",
    "    response = openai.audio.speech.create(\n",
    "      model=\"tts-1\",\n",
    "      voice=\"onyx\",    # Also, try replacing onyx with alloy\n",
    "      input=message\n",
    "    )\n",
    "    \n",
    "    audio_stream = BytesIO(response.content)\n",
    "    audio = AudioSegment.from_file(audio_stream, format=\"mp3\")\n",
    "    play(audio)"
   ]
  },
  {
   "cell_type": "code",
   "execution_count": null,
   "id": "405e7a42-3a3a-4f6d-8ba4-3ada95e66483",
   "metadata": {},
   "outputs": [],
   "source": [
    "system_message = \"You are a helpful assistant for an E Visa application called Eazee. \"\n",
    "system_message += \"Give short, courteous answers, no more than 1 sentence. \"\n",
    "system_message += \"Always be accurate. If you don't know the answer, say so.\""
   ]
  },
  {
   "cell_type": "code",
   "execution_count": 63,
   "id": "ed2b936c-a91c-4b24-b4a2-b2783bb9b48d",
   "metadata": {},
   "outputs": [
    {
     "name": "stderr",
     "output_type": "stream",
     "text": [
      "/var/folders/kw/_0591_px5xnc85wlsh08blbm0000gn/T/ipykernel_82929/1454100266.py:55: UserWarning: You have not specified a value for the `type` parameter. Defaulting to the 'tuples' format for chatbot messages, but this is deprecated and will be removed in a future version of Gradio. Please set type='messages' instead, which uses openai-style dictionaries with 'role' and 'content' keys.\n",
      "  chatbox = gr.Chatbot()\n"
     ]
    },
    {
     "name": "stdout",
     "output_type": "stream",
     "text": [
      "* Running on local URL:  http://127.0.0.1:7869\n",
      "* To create a public link, set `share=True` in `launch()`.\n"
     ]
    },
    {
     "data": {
      "text/html": [
       "<div><iframe src=\"http://127.0.0.1:7869/\" width=\"100%\" height=\"500\" allow=\"autoplay; camera; microphone; clipboard-read; clipboard-write;\" frameborder=\"0\" allowfullscreen></iframe></div>"
      ],
      "text/plain": [
       "<IPython.core.display.HTML object>"
      ]
     },
     "metadata": {},
     "output_type": "display_data"
    },
    {
     "data": {
      "text/plain": []
     },
     "execution_count": 63,
     "metadata": {},
     "output_type": "execute_result"
    }
   ],
   "source": [
    "import gradio as gr\n",
    "from fpdf import FPDF\n",
    "import cv2\n",
    "import os\n",
    "from dotenv import load_dotenv\n",
    "from openai import OpenAI\n",
    "\n",
    "# Load environment variables and OpenAI key\n",
    "load_dotenv(override=True)\n",
    "openai_api_key = os.getenv('OPENAI_API_KEY')\n",
    "openai = OpenAI(api_key=openai_api_key)\n",
    "MODEL = \"gpt-4o-mini\"\n",
    "\n",
    "def openai_chat(message, history):\n",
    "    # Prepare messages for OpenAI API\n",
    "    messages = [{\"role\": \"system\", \"content\": system_message}]\n",
    "    for user, assistant in history:\n",
    "        messages.append({\"role\": \"user\", \"content\": user})\n",
    "        messages.append({\"role\": \"assistant\", \"content\": assistant})\n",
    "    messages.append({\"role\": \"user\", \"content\": message})\n",
    "    response = openai.chat.completions.create(model=MODEL, messages=messages)\n",
    "    reply = response.choices[0].message.content\n",
    "    # Simple intent detection for visa\n",
    "    show_form = \"visa\" in message.lower()\n",
    "    history.append((message, reply))\n",
    "    return history, gr.update(visible=show_form)\n",
    "\n",
    "def create_visa_application_pdf(firstname, lastname, address, gender, image):\n",
    "    img_path = \"visa_photo.jpg\"\n",
    "    if image is not None:\n",
    "        cv2.imwrite(img_path, cv2.cvtColor(image, cv2.COLOR_RGB2BGR))\n",
    "    else:\n",
    "        return None\n",
    "    pdf = FPDF()\n",
    "    pdf.add_page()\n",
    "    pdf.set_font(\"Arial\", size=14)\n",
    "    pdf.cell(200, 10, \"E-Visa Application Form\", ln=True, align=\"C\")\n",
    "    pdf.ln(10)\n",
    "    pdf.cell(50, 10, f\"First Name: {firstname}\", ln=True)\n",
    "    pdf.cell(50, 10, f\"Last Name: {lastname}\", ln=True)\n",
    "    pdf.cell(50, 10, f\"Gender: {gender}\", ln=True)\n",
    "    pdf.multi_cell(0, 10, f\"Address: {address}\", align=\"L\")\n",
    "    pdf.ln(10)\n",
    "    pdf.cell(50, 10, \"Applicant Photo:\", ln=True)\n",
    "    if os.path.exists(img_path):\n",
    "        pdf.image(img_path, x=pdf.get_x(), y=pdf.get_y(), w=40)\n",
    "    pdf_path = \"visa_application.pdf\"\n",
    "    pdf.output(pdf_path)\n",
    "    return pdf_path\n",
    "\n",
    "with gr.Blocks() as demo:\n",
    "    gr.Markdown(\"## Eazee: AI-Powered E-Visa Assistant\")\n",
    "    chat_history = gr.State([])\n",
    "    with gr.Row():\n",
    "        chatbox = gr.Chatbot()\n",
    "    with gr.Row():\n",
    "        user_msg = gr.Textbox(label=\"Type your message\")\n",
    "        send_btn = gr.Button(\"Send\")\n",
    "    visa_form = gr.Group(visible=False)\n",
    "    with visa_form:\n",
    "        gr.Markdown(\"### E-Visa Application Form\")\n",
    "        with gr.Row():\n",
    "            firstname = gr.Textbox(label=\"First Name\")\n",
    "            lastname = gr.Textbox(label=\"Last Name\")\n",
    "        address = gr.Textbox(label=\"Address\")\n",
    "        gender = gr.Radio([\"Male\", \"Female\", \"Other\"], label=\"Gender\")\n",
    "        image = gr.Image(label=\"Take your photo\", sources=[\"webcam\"])\n",
    "        pdf_file = gr.File(label=\"Download Visa Application PDF\")\n",
    "        btn = gr.Button(\"Generate PDF\")\n",
    "        btn.click(\n",
    "            create_visa_application_pdf,\n",
    "            inputs=[firstname, lastname, address, gender, image],\n",
    "            outputs=pdf_file\n",
    "        )\n",
    "    send_btn.click(\n",
    "        openai_chat,\n",
    "        inputs=[user_msg, chat_history],\n",
    "        outputs=[chatbox, visa_form]\n",
    "    )\n",
    "\n",
    "demo.launch()"
   ]
  },
  {
   "cell_type": "code",
   "execution_count": 58,
   "id": "35606f87-2bf9-45b1-9cbd-9caf8187670a",
   "metadata": {},
   "outputs": [],
   "source": [
    "Visa_function = {\n",
    "    \"name\": \"create_visa_application_pdf\",\n",
    "    \"description\": (\n",
    "        \"Generate a visa application PDF. \"\n",
    "        \"Call this whenever you need to create a visa application, for example when a customer asks 'Can you help with my visa application?'\"\n",
    "    ),\n",
    "    \"parameters\": {\n",
    "        \"type\": \"object\",\n",
    "        \"properties\": {\n",
    "            \"firstname\": {\n",
    "                \"type\": \"string\",\n",
    "                \"description\": \"The applicant's first name\"\n",
    "            },\n",
    "            \"lastname\": {\n",
    "                \"type\": \"string\",\n",
    "                \"description\": \"The applicant's last name\"\n",
    "            },\n",
    "            \"address\": {\n",
    "                \"type\": \"string\",\n",
    "                \"description\": \"The applicant's address\"\n",
    "            },\n",
    "            \"gender\": {\n",
    "                \"type\": \"string\",\n",
    "                \"description\": \"The applicant's gender\"\n",
    "            },\n",
    "            \"photo\": {\n",
    "                \"type\": \"string\",\n",
    "                \"description\": \"Base64-encoded image of the applicant's photo\"\n",
    "            }\n",
    "        },\n",
    "        \"required\": [\n",
    "            \"firstname\", \"lastname\", \"address\", \"gender\", \"photo\"\n",
    "            \n",
    "        ],\n",
    "        \"additionalProperties\": False\n",
    "    }\n",
    "}"
   ]
  },
  {
   "cell_type": "code",
   "execution_count": null,
   "id": "fd88f853-fc79-45d8-97e5-1a3120128d1a",
   "metadata": {},
   "outputs": [],
   "source": [
    "visa_tools = [{\"type\": \"function\", \"function\": Visa_function}]\n",
    "#hotel_tools = [{\"type\": \"function\", \"function\": Hotel_price_function}]\n",
    "tools = visa_tools "
   ]
  },
  {
   "cell_type": "code",
   "execution_count": null,
   "id": "8373b72d-f389-47d9-bc78-9d0861736b28",
   "metadata": {},
   "outputs": [],
   "source": [
    "def chat(history):\n",
    "    messages = [{\"role\": \"system\", \"content\": system_message}] + history\n",
    "    response = openai.chat.completions.create(model=MODEL, messages=messages, tools=tools)\n",
    "    image = None\n",
    "    \n",
    "    if response.choices[0].finish_reason==\"tool_calls\":\n",
    "        message = response.choices[0].message\n",
    "        response, city = handle_tool_call(message)\n",
    "        messages.append(message)\n",
    "        messages.append(response)\n",
    "        image = artist(city)\n",
    "        response = openai.chat.completions.create(model=MODEL, messages=messages)\n",
    "        \n",
    "    reply = response.choices[0].message.content\n",
    "    history += [{\"role\":\"assistant\", \"content\":reply}]\n",
    "\n",
    "    # Comment out or delete the next line if you'd rather skip Audio for now..\n",
    "    talker(reply)\n",
    "    \n",
    "    return history, image"
   ]
  },
  {
   "cell_type": "code",
   "execution_count": 61,
   "id": "1c49478d-412e-4130-be4e-adf7bb957044",
   "metadata": {},
   "outputs": [
    {
     "name": "stdout",
     "output_type": "stream",
     "text": [
      "* Running on local URL:  http://127.0.0.1:7867\n",
      "* To create a public link, set `share=True` in `launch()`.\n"
     ]
    },
    {
     "data": {
      "text/html": [
       "<div><iframe src=\"http://127.0.0.1:7867/\" width=\"100%\" height=\"500\" allow=\"autoplay; camera; microphone; clipboard-read; clipboard-write;\" frameborder=\"0\" allowfullscreen></iframe></div>"
      ],
      "text/plain": [
       "<IPython.core.display.HTML object>"
      ]
     },
     "metadata": {},
     "output_type": "display_data"
    },
    {
     "data": {
      "text/plain": []
     },
     "execution_count": 61,
     "metadata": {},
     "output_type": "execute_result"
    }
   ],
   "source": [
    "# More involved Gradio code as we're not using the preset Chat interface!\n",
    "# Passing in inbrowser=True in the last line will cause a Gradio window to pop up immediately.\n",
    "\n",
    "def chat_fn(message, history, show_form):\n",
    "    # Simple intent detection for demo purposes\n",
    "    if \"visa\" in message.lower() and (\"apply\" in message.lower() or \"create\" in message.lower()):\n",
    "        reply = \"Sure, please fill out the visa application form below.\"\n",
    "        show_form = True\n",
    "    else:\n",
    "        reply = \"How can I assist you?\"\n",
    "        show_form = False\n",
    "    history.append((message, reply))\n",
    "    return history, gr.update(visible=show_form)\n",
    "\n",
    "with gr.Blocks() as demo:\n",
    "    with gr.Row():\n",
    "        chatbot = gr.Chatbot(height=500, type=\"messages\")\n",
    "        state = gr.State(False)  # show_form state\n",
    "    with gr.Row():\n",
    "        msg = gr.Textbox(label=\"Type your message\")\n",
    "        send = gr.Button(\"Send\")\n",
    "    visa_form = gr.Group(visible=False)\n",
    "    with visa_form:\n",
    "        gr.Markdown(\"## E-Visa Application Form\")\n",
    "        with gr.Row():\n",
    "            firstname = gr.Textbox(label=\"First Name\")\n",
    "            lastname = gr.Textbox(label=\"Last Name\")\n",
    "        address = gr.Textbox(label=\"Address\")\n",
    "        gender = gr.Radio([\"Male\", \"Female\", \"Other\"], label=\"Gender\")\n",
    "        image = gr.Image(label=\"Take your photo\", sources=[\"webcam\"])\n",
    "        pdf_file = gr.File(label=\"Download Visa Application PDF\")\n",
    "        btn = gr.Button(\"Generate PDF\")\n",
    "        btn.click(\n",
    "            create_visa_application_pdf,\n",
    "            inputs=[firstname, lastname, address, gender, image],\n",
    "            outputs=pdf_file\n",
    "        )\n",
    "    send.click(\n",
    "        chat_fn,\n",
    "        inputs=[msg, chatbot, state],\n",
    "        outputs=[chatbot, visa_form]\n",
    "    )\n",
    "demo.launch()"
   ]
  },
  {
   "cell_type": "code",
   "execution_count": null,
   "id": "7a3b00fe-139b-476a-a1cc-fbae8118d1bb",
   "metadata": {},
   "outputs": [],
   "source": []
  }
 ],
 "metadata": {
  "kernelspec": {
   "display_name": "Python [conda env:base] *",
   "language": "python",
   "name": "conda-base-py"
  },
  "language_info": {
   "codemirror_mode": {
    "name": "ipython",
    "version": 3
   },
   "file_extension": ".py",
   "mimetype": "text/x-python",
   "name": "python",
   "nbconvert_exporter": "python",
   "pygments_lexer": "ipython3",
   "version": "3.12.7"
  }
 },
 "nbformat": 4,
 "nbformat_minor": 5
}
